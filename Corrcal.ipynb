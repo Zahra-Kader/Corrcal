{
 "cells": [
  {
   "cell_type": "code",
   "execution_count": 1,
   "metadata": {},
   "outputs": [],
   "source": [
    "import numpy as np\n",
    "import h5py,time, matplotlib.pyplot as plt\n",
    "from scipy.optimize import fmin_cg\n",
    "from drift.core import manager\n",
    "import corrcal2\n",
    "import sys\n",
    "sys.path.insert(0,'/home/zahra/PIPELINE')\n",
    "from log_red_cal_new import Visibilities_grid, Bls_counts, colour_scatterplot"
   ]
  },
  {
   "cell_type": "markdown",
   "metadata": {},
   "source": [
    "I generate simulated visibility data that contains gains and noise. Below I have timestreams with different amounts of gain fluctuations. The 'ts_2' file is true visibilities without gains or noise, the 'ag_2' is visibilities with gains added, 'rg_2' is the gains that I input and 'gn_2' is the visibilities with noise and gains. "
   ]
  },
  {
   "cell_type": "code",
   "execution_count": 2,
   "metadata": {},
   "outputs": [
    {
     "name": "stdout",
     "output_type": "stream",
     "text": [
      "Product directory: /home/zahra/PIPELINE/ex_3by3_kl/bt_matrices\n"
     ]
    }
   ],
   "source": [
    "#These files contain gains with .001 fluctuations\n",
    "ts_2=h5py.File('/home/zahra/PIPELINE/ex_3by3_kl/draco_synthesis/maps/tstream_2.h5','r')\n",
    "ag_2=h5py.File('/home/zahra/PIPELINE/ex_3by3_kl/draco_synthesis/rand_gains/amp_pt001_phase_pt001/app_gain_2.h5','r')\n",
    "rg_2=h5py.File('/home/zahra/PIPELINE/ex_3by3_kl/draco_synthesis/rand_gains/sig_pt0012.h5','r')\n",
    "gn_2=h5py.File('/home/zahra/PIPELINE/ex_3by3_kl/draco_synthesis/rand_gains/ts_final/app_gain_noise_2.h5','r')\n",
    "\n",
    "'''\n",
    "#These files contain gains with .01 fluctuations\n",
    "ts_2=h5py.File('/home/zahra/PIPELINE/ex_3by3_kl/draco_synthesis_pt01_gain_fluc/maps/tstream_2.h5','r')\n",
    "ag_2=h5py.File('/home/zahra/PIPELINE/ex_3by3_kl/draco_synthesis_pt01_gain_fluc/rand_gains/amp_pt01_phase_pt01/app_gain_2.h5','r')\n",
    "rg_2=h5py.File('/home/zahra/PIPELINE/ex_3by3_kl/draco_synthesis_pt01_gain_fluc/rand_gains/sig_pt012.h5','r')\n",
    "gn_2=h5py.File('/home/zahra/PIPELINE/ex_3by3_kl/draco_synthesis_pt01_gain_fluc/rand_gains/ts_final/app_gain_noise_2.h5','r')\n",
    "\n",
    "#These files contain gains with .1 fluctuations\n",
    "ts_2=h5py.File('/home/zahra/PIPELINE/ex_3by3_kl/draco_synthesis_pt1_gain_fluc/maps/tstream_2.h5','r')\n",
    "ag_2=h5py.File('/home/zahra/PIPELINE/ex_3by3_kl/draco_synthesis_pt1_gain_fluc/rand_gains/amp_pt1_phase_pt1/app_gain_2.h5','r')\n",
    "rg_2=h5py.File('/home/zahra/PIPELINE/ex_3by3_kl/draco_synthesis_pt1_gain_fluc/rand_gains/sig_pt12.h5','r')\n",
    "gn_2=h5py.File('/home/zahra/PIPELINE/ex_3by3_kl/draco_synthesis_pt1_gain_fluc/rand_gains/ts_final/app_gain_noise_2.h5','r')\n",
    "'''\n",
    "#The config file used to generate the visibility timestreams using draco and driftscan-radiocosmology packages\n",
    "m=manager.ProductManager.from_config('/home/zahra/PIPELINE/ex_3by3_kl/prod_params_custom.yaml')"
   ]
  },
  {
   "cell_type": "code",
   "execution_count": 3,
   "metadata": {},
   "outputs": [],
   "source": [
    "time_channel=400 # We look at a single time channel\n",
    "Ndish=9 #We are using a 3 by 3 array, and assuming one feed per dish"
   ]
  },
  {
   "cell_type": "markdown",
   "metadata": {},
   "source": [
    "The 'log_red_cal_new' module is used to separate visibilities according to redundant blocks, as required for corrcal, and to manually add noise to the visibilities. "
   ]
  },
  {
   "cell_type": "code",
   "execution_count": 4,
   "metadata": {},
   "outputs": [
    {
     "name": "stdout",
     "output_type": "stream",
     "text": [
      "(0.012207031977595827, 'sigma_gn')\n",
      "(0.01, 'sigma')\n"
     ]
    },
    {
     "data": {
      "image/png": "[encoded data removed]",
      "text/plain": [
       "<Figure size 432x288 with 1 Axes>"
      ]
     },
     "metadata": {},
     "output_type": "display_data"
    }
   ],
   "source": [
    "sigma=1.e-2\n",
    "arr=Visibilities_grid(m,ts_2,rg_2,ag_2,gn_2,time_channel,sigma)\n",
    "vis=arr[0][:,time_channel] #visibilities with noise\n",
    "\n",
    "#sigma=arr[-2] #the amount of noise that we input \n",
    "\n",
    "#The visibilities has gains and noise and is separated according to redundant baselines\n",
    "data=np.zeros(2*vis.size)\n",
    "data[0::2]=vis.real #Here we separate the visibilites so that the array alternates real and imaginary values\n",
    "data[1::2]=vis.imag\n",
    "plt.plot(data)\n",
    "plt.savefig('vis_sig_1e-2')\n",
    "plt.show()"
   ]
  },
  {
   "cell_type": "code",
   "execution_count": 5,
   "metadata": {},
   "outputs": [
    {
     "name": "stdout",
     "output_type": "stream",
     "text": [
      "(7.0091391621266805e-06+0j)\n"
     ]
    }
   ],
   "source": [
    "noiseless_vis=arr[1][:,time_channel]\n",
    "print (np.cov(noiseless_vis[:6]))"
   ]
  },
  {
   "cell_type": "code",
   "execution_count": 6,
   "metadata": {},
   "outputs": [],
   "source": [
    "correlation_arr,sum_counts,corr_counts=Bls_counts(m)"
   ]
  },
  {
   "cell_type": "markdown",
   "metadata": {},
   "source": [
    "I also have the following lims array, the diagonal matrix for the noise and zero point sources"
   ]
  },
  {
   "cell_type": "code",
   "execution_count": 7,
   "metadata": {},
   "outputs": [
    {
     "name": "stdout",
     "output_type": "stream",
     "text": [
      "(array([ 6,  9, 11, 15, 21, 25, 27, 28, 30, 33, 35, 36]), 'lims')\n"
     ]
    }
   ],
   "source": [
    "lims=sum_counts \n",
    "print (lims,'lims') #There are 36 visibilities for the 3 by 3 array, so the cumulative sum of the lims is 36\n",
    "diag=sigma**2*np.ones(2*vis.size)\n",
    "src=np.zeros(2*vis.size)"
   ]
  },
  {
   "cell_type": "markdown",
   "metadata": {},
   "source": [
    "I use just the diagonals of the sky covariance matrix which is generated using the 21cm signal-using the driftscan package. "
   ]
  },
  {
   "cell_type": "code",
   "execution_count": 8,
   "metadata": {},
   "outputs": [],
   "source": [
    "\n",
    "klobj=m.kltransforms['kl']\n",
    "sum_full_real=np.zeros((102,102))\n",
    "for i in range(201):\n",
    "    sum_full_real+=m.beamtransfer.project_matrix_sky_to_telescope(i,klobj.signal())[0,:,0,:].real\n",
    "sum_full_imag=np.zeros((102,102))\n",
    "for i in range(201):\n",
    "    sum_full_imag+=m.beamtransfer.project_matrix_sky_to_telescope(i,klobj.signal())[0,:,0,:].imag\n",
    "sum_real_diag=np.diag(sum_full_real)\n",
    "sum_imag_diag=np.diag(sum_full_imag)\n",
    "real_sig_condensed_1=sum_real_diag[3:51][0::4]\n",
    "real_sig_condensed_2=sum_real_diag[54:102][0::4]\n",
    "\n",
    "imag_sig_condensed_1=sum_imag_diag[3:51][0::4]\n",
    "imag_sig_condensed_2=sum_real_diag[54:102][0::4]\n",
    "\n",
    "\n",
    "real_signal_expanded_1=np.repeat(real_sig_condensed_1,corr_counts)\n",
    "real_signal_expanded_2=np.repeat(real_sig_condensed_2,corr_counts)\n",
    "\n",
    "imag_signal_expanded_1=np.repeat(imag_sig_condensed_1,corr_counts)\n",
    "imag_signal_expanded_2=np.repeat(imag_sig_condensed_2,corr_counts)\n",
    "\n",
    "real_signal=np.append(real_signal_expanded_1,real_signal_expanded_2)\n",
    "imag_signal=np.append(imag_signal_expanded_1,imag_signal_expanded_2)\n",
    "\n",
    "vecs=np.vstack([real_signal,imag_signal])\n",
    "#vecs=np.load('sky_cov_mat_stacked_real_imaginary_shape_2by72.npy')\n"
   ]
  },
  {
   "cell_type": "markdown",
   "metadata": {},
   "source": [
    "For the redundant case, I use the following, which Jon made mention of in corrcal and which he uses in an example. One thing I am quite confused by  "
   ]
  },
  {
   "cell_type": "code",
   "execution_count": 9,
   "metadata": {},
   "outputs": [],
   "source": [
    "#vec_real=1000*np.load('vec_real.npy')\n",
    "#vec_imag=1000*np.load('vec_imag.npy')\n",
    "#vecs=np.array([vec_real,vec_imag])\n",
    "\n",
    "v1=np.zeros(2*vis.size)\n",
    "v1[0::2]=1\n",
    "v2=np.zeros(2*vis.size)\n",
    "v2[1::2]=1\n",
    "vecs=1000*np.vstack([v1,v2])"
   ]
  },
  {
   "cell_type": "code",
   "execution_count": 10,
   "metadata": {},
   "outputs": [
    {
     "name": "stdout",
     "output_type": "stream",
     "text": [
      "here\n"
     ]
    }
   ],
   "source": [
    "mat=corrcal2.sparse_2level(diag,vecs,src,2*lims)"
   ]
  },
  {
   "cell_type": "code",
   "execution_count": 11,
   "metadata": {},
   "outputs": [
    {
     "name": "stdout",
     "output_type": "stream",
     "text": [
      "(array([0, 1, 3, 4, 6, 7, 0, 3, 6, 2, 5, 1, 2, 4, 5, 0, 1, 2, 3, 4, 5, 0,\n",
      "       1, 3, 4, 0, 3, 2, 1, 2, 0, 1, 2, 0, 1, 0]), 'ant1')\n",
      "(array([1, 2, 4, 5, 7, 8, 2, 5, 8, 3, 6, 3, 4, 6, 7, 3, 4, 5, 6, 7, 8, 4,\n",
      "       5, 7, 8, 5, 8, 6, 6, 7, 6, 7, 8, 7, 8, 8]), 'ant2')\n"
     ]
    }
   ],
   "source": [
    "ant1=correlation_arr[:,0].astype(int)\n",
    "ant2=correlation_arr[:,1].astype(int)\n",
    "print (ant1,'ant1')\n",
    "print (ant2,'ant2')"
   ]
  },
  {
   "cell_type": "markdown",
   "metadata": {},
   "source": [
    "Simulated gains are separated so that they alternate between real and imaginary for all the dishes"
   ]
  },
  {
   "cell_type": "code",
   "execution_count": 12,
   "metadata": {},
   "outputs": [],
   "source": [
    "gain=rg_2['gain'][0,:Ndish,time_channel]\n",
    "sim_gains=np.append(gain.real,gain.imag)\n",
    "\n",
    "sim_gains=np.zeros(Ndish*2)\n",
    "sim_gains[0::2]=gain.real\n",
    "sim_gains[1::2]=gain.imag\n"
   ]
  },
  {
   "cell_type": "markdown",
   "metadata": {},
   "source": [
    "At the moment I am trying a single random input gain that introduces a 10% random offset from the actual simulated gains and I do 100 000 runs with the same input gains and same visibility noise. "
   ]
  },
  {
   "cell_type": "code",
   "execution_count": 13,
   "metadata": {},
   "outputs": [
    {
     "name": "stdout",
     "output_type": "stream",
     "text": [
      "here\n",
      "here\n",
      "[ 2.45346602e+04 -9.31722253e+02  2.44249970e+04 -9.30816557e+02\n",
      "  2.42344501e+04 -9.41515928e+02  2.41821561e+04 -8.96012987e+02\n",
      "  2.43541810e+04 -9.54765070e+02  2.43773566e+04 -8.30667444e+02\n",
      "  2.15023751e+00 -8.51775056e+01 -3.68923398e+01  6.34730755e+01\n",
      "  3.48117504e+01  2.17228899e+01 -9.45808436e+01  2.31507418e+01\n",
      "  9.47543361e+01 -2.31567918e+01 -3.13637550e+01 -3.52365058e+01\n",
      "  1.93730943e+01 -4.57574413e+01 -6.32071041e+01  4.63302480e+01\n",
      "  7.50809190e+01  3.46982440e+01 -2.52483513e+01 -2.25831766e+01\n",
      "  2.36075142e+02 -2.09068446e+01 -2.58040258e+01  1.17874496e+02\n",
      " -7.08427762e+01  4.77663282e+01 -1.06516643e+02 -4.10079393e+01\n",
      " -7.39622234e+00 -8.16397039e+01 -7.18197934e+01  5.34159632e+01\n",
      "  5.09119483e+00 -5.03917105e+01  2.02693926e+01 -8.86924611e+00\n",
      "  4.65630495e+01  5.95411853e+00 -5.95764732e+01  8.32234851e+01\n",
      "  5.95427447e+01 -8.32187469e+01 -3.77917974e-08 -1.99352712e-08\n",
      " -5.93315746e+01  7.87406284e+01  5.93085614e+01 -7.86728225e+01\n",
      " -1.16661895e+02 -2.85801457e+01 -1.40316283e+01 -1.02303331e+02\n",
      "  1.30873395e+02  1.30669640e+02  1.29660740e+02 -1.93164636e+01\n",
      " -1.29739726e+02  1.94384923e+01  2.68024931e-07  8.28512157e-08]\n",
      "here too\n",
      "here\n",
      "[ 0.          0.          0.          0.          0.          0.\n",
      "  0.          0.          0.          0.          0.          0.\n",
      "  0.022064   -0.0870682   0.022064   -0.0870682   0.022064   -0.0870682\n",
      "  0.01575776  0.05113674  0.01575776  0.05113674  0.46163365  0.07100128\n",
      "  0.46163365  0.07100128  0.46163365  0.07100128  0.46163365  0.07100128\n",
      "  2.4824376   0.06757118  2.4824376   0.06757118  2.4824376   0.06757118\n",
      "  2.4824376   0.06757118  2.4824376   0.06757118  2.4824376   0.06757118\n",
      "  0.4122093  -0.00974251  0.4122093  -0.00974251  0.4122093  -0.00974251\n",
      "  0.4122093  -0.00974251  0.15523567  0.00633566  0.15523567  0.00633566\n",
      " -0.03777661 -0.02005371 -0.03122945 -0.06158696 -0.03122945 -0.06158696\n",
      "  0.04029242  0.05350387  0.04029242  0.05350387  0.04029242  0.05350387\n",
      "  0.11793028  0.01373003  0.11793028  0.01373003  0.26828339  0.08295074]\n",
      "here too\n",
      "here\n",
      "here\n",
      "[ 2.45346602e+04 -9.31722253e+02  2.44249970e+04 -9.30816557e+02\n",
      "  2.42344501e+04 -9.41515928e+02  2.41821561e+04 -8.96012987e+02\n",
      "  2.43541810e+04 -9.54765070e+02  2.43773566e+04 -8.30667444e+02\n",
      "  2.15023751e+00 -8.51775056e+01 -3.68923398e+01  6.34730755e+01\n",
      "  3.48117504e+01  2.17228899e+01 -9.45808436e+01  2.31507418e+01\n",
      "  9.47543361e+01 -2.31567918e+01 -3.13637550e+01 -3.52365058e+01\n",
      "  1.93730943e+01 -4.57574413e+01 -6.32071041e+01  4.63302480e+01\n",
      "  7.50809190e+01  3.46982440e+01 -2.52483513e+01 -2.25831766e+01\n",
      "  2.36075142e+02 -2.09068446e+01 -2.58040258e+01  1.17874496e+02\n",
      " -7.08427762e+01  4.77663282e+01 -1.06516643e+02 -4.10079393e+01\n",
      " -7.39622234e+00 -8.16397039e+01 -7.18197934e+01  5.34159632e+01\n",
      "  5.09119483e+00 -5.03917105e+01  2.02693926e+01 -8.86924611e+00\n",
      "  4.65630495e+01  5.95411853e+00 -5.95764732e+01  8.32234851e+01\n",
      "  5.95427447e+01 -8.32187469e+01 -3.77917974e-08 -1.99352712e-08\n",
      " -5.93315746e+01  7.87406284e+01  5.93085614e+01 -7.86728225e+01\n",
      " -1.16661895e+02 -2.85801457e+01 -1.40316283e+01 -1.02303331e+02\n",
      "  1.30873395e+02  1.30669640e+02  1.29660740e+02 -1.93164636e+01\n",
      " -1.29739726e+02  1.94384923e+01  2.68024931e-07  8.28512157e-08]\n",
      "here too\n",
      "356331.95819124306\n",
      "1.0\n",
      "356331.9582305611\n",
      "here\n",
      "here\n",
      "[ 2.45346602e+04 -9.31722253e+02  2.44249970e+04 -9.30816557e+02\n",
      "  2.42344501e+04 -9.41515928e+02  2.41821561e+04 -8.96012987e+02\n",
      "  2.43541810e+04 -9.54765070e+02  2.43773566e+04 -8.30667444e+02\n",
      "  2.15023751e+00 -8.51775056e+01 -3.68923398e+01  6.34730755e+01\n",
      "  3.48117504e+01  2.17228899e+01 -9.45808436e+01  2.31507418e+01\n",
      "  9.47543361e+01 -2.31567918e+01 -3.13637550e+01 -3.52365058e+01\n",
      "  1.93730943e+01 -4.57574413e+01 -6.32071041e+01  4.63302480e+01\n",
      "  7.50809190e+01  3.46982440e+01 -2.52483513e+01 -2.25831766e+01\n",
      "  2.36075142e+02 -2.09068446e+01 -2.58040258e+01  1.17874496e+02\n",
      " -7.08427762e+01  4.77663282e+01 -1.06516643e+02 -4.10079393e+01\n",
      " -7.39622234e+00 -8.16397039e+01 -7.18197934e+01  5.34159632e+01\n",
      "  5.09119483e+00 -5.03917105e+01  2.02693926e+01 -8.86924611e+00\n",
      "  4.65630495e+01  5.95411853e+00 -5.95764732e+01  8.32234851e+01\n",
      "  5.95427447e+01 -8.32187469e+01 -3.77917974e-08 -1.99352712e-08\n",
      " -5.93315746e+01  7.87406284e+01  5.93085614e+01 -7.86728225e+01\n",
      " -1.16661895e+02 -2.85801457e+01 -1.40316283e+01 -1.02303331e+02\n",
      "  1.30873395e+02  1.30669640e+02  1.29660740e+02 -1.93164636e+01\n",
      " -1.29739726e+02  1.94384923e+01  2.68024931e-07  8.28512157e-08]\n",
      "here too\n",
      "356331.95819124306\n",
      "1e-08\n",
      "356331.95819124306\n",
      "Optimization terminated successfully.\n",
      "         Current function value: 356331.958191\n",
      "         Iterations: 0\n",
      "         Function evaluations: 1\n",
      "         Gradient evaluations: 1\n"
     ]
    }
   ],
   "source": [
    "'''\n",
    "gvec=np.array([])\n",
    "for i in range(len(sim_gains)):\n",
    "    gvec=np.append(gvec,np.random.normal(0,.01,2*Ndish)[i]+sim_gains[i])\n",
    "'''\n",
    "\n",
    "random=np.random.normal(0,.0001,2*Ndish)\n",
    "\n",
    "gvec=np.array([])\n",
    "for i in range(len(sim_gains)):\n",
    "    gvec=np.append(gvec,random[i]+sim_gains[i])\n",
    "\n",
    "\n",
    "runs=1\n",
    "'''\n",
    "runs=1\n",
    "gvec=np.zeros((runs,2*Ndish))\n",
    "for j in range(runs):\n",
    "    for i in range(len(sim_gains)):\n",
    "        gvec[j,i]=np.random.normal(0,.1,2*Ndish)[i]+sim_gains[i]\n",
    "#gvec=np.append(rand_gains.real,rand_gains.imag)\n",
    "'''\n",
    "\n",
    "fit_gains=np.zeros((runs,Ndish*2))\n",
    "\n",
    "#args=(data,mat,ant1,ant2)\n",
    "#x=np.linspace(-.98,1.2,18)\n",
    "#print (corrcal2.get_chisq(gvec,*args),'chi sq of x')\n",
    "\n",
    "\n",
    "for init_run in range(runs):\n",
    "    niter=1000;\n",
    "    fac=1.e9;\n",
    "    normfac=1.e-8\n",
    "    asdf=fmin_cg(corrcal2.get_chisq,gvec*fac,corrcal2.get_gradient,(data,mat,ant1,ant2,fac,normfac))\n",
    "    fit_gains[init_run,:]=asdf/fac\n",
    "    abs_full=np.array([])\n",
    "    for i in range(2*Ndish):\n",
    "        if i%2==0:\n",
    "            abs_full=np.append(abs_full,np.abs(np.complex(sim_gains[i],sim_gains[1+i]))) #have no idea what abs value gain to divide by,\n",
    "                                                                                        #could be absolute fit gains\n",
    "    #fit_gains[m,:]=fit_gains[m,:]/(np.mean(abs_full))\n",
    "\n",
    "            #print (np.complex(fit_gains[m,i],fit_gains[m,1+i]),'comp fit gains')\n",
    "    #for i in range(Ndish):\n",
    "        #fit_gains[m,:]=fit_gains[m,:]/(np.mean(np.abs(np.complex(fit_gains[m,i],fit_gains[m,9+i]))))\n",
    "\n",
    "#np.save('fit_gains_4.npy',fit_gains)\n"
   ]
  },
  {
   "cell_type": "markdown",
   "metadata": {},
   "source": [
    "I then take the average and stnd deviation of these runs "
   ]
  },
  {
   "cell_type": "code",
   "execution_count": 14,
   "metadata": {},
   "outputs": [
    {
     "name": "stdout",
     "output_type": "stream",
     "text": [
      "(array([1.00088192, 0.99991343, 1.00085685, 1.00134983, 0.99984235,\n",
      "       1.00033973, 1.00012296, 0.9998677 , 1.0001027 ]), 'gain mean')\n",
      "(array([1.00084956, 0.99994372, 1.00093686, 1.00152207, 0.99980777,\n",
      "       1.00021132, 1.00005068, 1.00004054, 1.0001519 ]), 'sim gains')\n",
      "(3.0286626901632197e-05, 0.00017283693061243, 'diff gains')\n",
      "(array([0., 0., 0., 0., 0., 0., 0., 0., 0.]), 'std dev for fit gains')\n",
      "[3.23300057e-05 3.02883316e-05 7.99387256e-05 1.71974864e-04\n",
      " 3.45878977e-05 1.28382285e-04 7.22758735e-05 1.72829924e-04\n",
      " 4.91862088e-05]\n"
     ]
    },
    {
     "data": {
      "text/plain": [
       "'\\nfig, ax = plt.subplots()\\n\\nlims = [-1.5,  # min of both axes\\n    1+np.max([ax.get_xlim()]),  # max of both axes\\n]\\nax.scatter(sim_gains_amp,rec_gains_amp)\\nplt.errorbar(sim_gains_amp,rec_gains_amp,xerr=None,yerr=gain_std_amp,linestyle=\"None\")\\n\\nax.plot(lims, lims,\\'g\\')\\n#plt.errorbar(x_sim[:Ndish,time_channel],x_rec[:Ndish,time_channel],xerr=None,yerr=error_single[:Ndish],linestyle=\"None\")\\nplt.xlabel(\\'Simulated gains\\')\\nplt.ylabel(\\'Recovered gains\\')\\n#plt.ylim(.95,1.05)\\n#plt.xlim(.95,1.05)\\n\\nplt.show()\\n'"
      ]
     },
     "execution_count": 14,
     "metadata": {},
     "output_type": "execute_result"
    }
   ],
   "source": [
    "gain_std=(np.std(fit_gains,axis=0)/np.sqrt(runs)).flatten()\n",
    "gain_mean=np.mean(fit_gains,axis=0).flatten()\n",
    "\n",
    "#print (gvec.flatten()[0::2],'sim gains with fluctuation')\n",
    "#print (fit_gains.flatten()[0::2],'fit gains')\n",
    "print (gain_mean[0::2],'gain mean')\n",
    "print (sim_gains[0::2],'sim gains')\n",
    "print (np.abs(gain_mean[0::2]-sim_gains[0::2]).min(),np.abs(gain_mean[0::2]-sim_gains[0::2]).max(),'diff gains')\n",
    "print (gain_std[0::2], 'std dev for fit gains')\n",
    "\n",
    "sim_gains_amp=sim_gains[0::2]\n",
    "rec_gains_amp=gain_mean[0::2]\n",
    "sim_gains_phase=sim_gains[1::2]\n",
    "rec_gains_phase=gain_mean[1::2]\n",
    "gain_std_amp=gain_std[0::2]\n",
    "gain_std_phase=gain_std[1::2]\n",
    "\n",
    "rel_err=np.abs(rec_gains_amp-sim_gains_amp)/sim_gains_amp\n",
    "print (rel_err)\n",
    "\n",
    "#np.save('gain_mean_sig_1e-2_run2',gain_mean)\n",
    "\n",
    "#sim_gains_amp=sim_gains[:Ndish]\n",
    "#rec_gains_amp=gain_mean[:Ndish]\n",
    "#sim_gains_phase=sim_gains[Ndish:]\n",
    "#rec_gains_phase=gain_mean[Ndish:]\n",
    "#gain_std_amp=gain_std[:Ndish]\n",
    "#gain_std_phase=gain_std[Ndish:]\n",
    "\n",
    "'''\n",
    "fig, ax = plt.subplots()\n",
    "\n",
    "lims = [-1.5,  # min of both axes\n",
    "    1+np.max([ax.get_xlim()]),  # max of both axes\n",
    "]\n",
    "ax.scatter(sim_gains_amp,rec_gains_amp)\n",
    "plt.errorbar(sim_gains_amp,rec_gains_amp,xerr=None,yerr=gain_std_amp,linestyle=\"None\")\n",
    "\n",
    "ax.plot(lims, lims,'g')\n",
    "#plt.errorbar(x_sim[:Ndish,time_channel],x_rec[:Ndish,time_channel],xerr=None,yerr=error_single[:Ndish],linestyle=\"None\")\n",
    "plt.xlabel('Simulated gains')\n",
    "plt.ylabel('Recovered gains')\n",
    "#plt.ylim(.95,1.05)\n",
    "#plt.xlim(.95,1.05)\n",
    "\n",
    "plt.show()\n",
    "'''"
   ]
  },
  {
   "cell_type": "markdown",
   "metadata": {},
   "source": [
    "I repeat the 100 000 runs and take the average. I then plot the difference between these two averages to see if the fit gains converge at all. They do not converge"
   ]
  },
  {
   "cell_type": "markdown",
   "metadata": {},
   "source": [
    "This is the difference plot for noise with $\\sigma=10^{2}$"
   ]
  },
  {
   "cell_type": "code",
   "execution_count": 15,
   "metadata": {},
   "outputs": [
    {
     "name": "stdout",
     "output_type": "stream",
     "text": [
      "[1.05337478 0.94250463 1.06755711 0.88323424 1.18896368 0.99078756\n",
      " 0.83157457 0.98460011 0.88327471]\n",
      "[ 0.0046572  -0.02045007 -0.0137996   0.0069106  -0.00298314 -0.00978437\n",
      "  0.01069458  0.00173487  0.00630581]\n"
     ]
    },
    {
     "data": {
      "text/plain": [
       "Text(0.5,0,'Antenna index')"
      ]
     },
     "execution_count": 15,
     "metadata": {},
     "output_type": "execute_result"
    },
    {
     "data": {
      "image/png": "[encoded data removed]",
      "text/plain": [
       "<Figure size 432x288 with 1 Axes>"
      ]
     },
     "metadata": {},
     "output_type": "display_data"
    }
   ],
   "source": [
    "run_1_amp_sig2=np.load('gain_mean.npy')[0::2]\n",
    "run_2_amp_sig2=np.load('gain_mean_2.npy')[0::2]\n",
    "print (run_1_amp_sig2)\n",
    "diff_two_runs_sig2=run_1_amp_sig2-run_2_amp_sig2\n",
    "print (diff_two_runs_sig2)\n",
    "plt.plot(diff_two_runs_sig2)\n",
    "plt.ylabel('Diff between two sets of $10^5$ runs, $\\sigma=100$')\n",
    "plt.xlabel('Antenna index')"
   ]
  },
  {
   "cell_type": "markdown",
   "metadata": {},
   "source": [
    "This is the difference plot for noise with $\\sigma=10^{-2}$"
   ]
  },
  {
   "cell_type": "code",
   "execution_count": 16,
   "metadata": {},
   "outputs": [
    {
     "name": "stdout",
     "output_type": "stream",
     "text": [
      "[1.05496156 0.95981539 1.08325058 0.8673293  1.18731443 1.01300692\n",
      " 0.81597279 0.99444607 0.86974343]\n",
      "[-0.00061709  0.01118198  0.02991821  0.00165967 -0.02082058  0.01029009\n",
      "  0.00206314  0.00791487 -0.01955878]\n"
     ]
    },
    {
     "data": {
      "text/plain": [
       "Text(0.5,0,'Antenna index')"
      ]
     },
     "execution_count": 16,
     "metadata": {},
     "output_type": "execute_result"
    },
    {
     "data": {
      "image/png": "[encoded data removed]",
      "text/plain": [
       "<Figure size 432x288 with 1 Axes>"
      ]
     },
     "metadata": {},
     "output_type": "display_data"
    }
   ],
   "source": [
    "run_1_amp_sigpt01=np.load('gain_mean_sig_1e-2.npy')[0::2]\n",
    "run_2_amp_sigpt01=np.load('gain_mean_sig_1e-2_run2.npy')[0::2]\n",
    "print (run_1_amp_sigpt01)\n",
    "diff_two_runs_sigpt01=run_1_amp_sigpt01-run_2_amp_sigpt01\n",
    "print (diff_two_runs_sigpt01)\n",
    "plt.plot(diff_two_runs_sigpt01)\n",
    "plt.ylabel('Diff between two sets of $10^5$ runs, $\\sigma=.01$')\n",
    "plt.xlabel('Antenna index')"
   ]
  },
  {
   "cell_type": "markdown",
   "metadata": {},
   "source": [
    "If the results did converge for many runs, I would be able to see if noise affected the scatter of the fit gains vs simulated gains-that was the plan"
   ]
  }
 ],
 "metadata": {
  "kernelspec": {
   "display_name": "Python 2",
   "language": "python",
   "name": "python2"
  },
  "language_info": {
   "codemirror_mode": {
    "name": "ipython",
    "version": 2
   },
   "file_extension": ".py",
   "mimetype": "text/x-python",
   "name": "python",
   "nbconvert_exporter": "python",
   "pygments_lexer": "ipython2",
   "version": "2.7.15"
  }
 },
 "nbformat": 4,
 "nbformat_minor": 2
}
