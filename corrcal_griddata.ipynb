{
 "cells": [
  {
   "cell_type": "code",
   "execution_count": 1,
   "metadata": {},
   "outputs": [],
   "source": [
    "import numpy as np\n",
    "import h5py,time, matplotlib.pyplot as plt\n",
    "from scipy.optimize import fmin_cg, minimize\n",
    "from drift.core import manager\n",
    "import corrcal2\n",
    "import sys\n",
    "sys.path.insert(0,'/home/zahra/PIPELINE')\n",
    "from log_red_cal_new import Visibilities_grid, Bls_counts, colour_scatterplot, Scatterplot\n",
    "from decimal import Decimal\n",
    "from operator import add,sub\n",
    "from scipy.optimize import LinearConstraint, BFGS, Bounds\n",
    "import scipy as sp\n"
   ]
  },
  {
   "cell_type": "code",
   "execution_count": 2,
   "metadata": {},
   "outputs": [],
   "source": [
    "\n",
    "ts_var=h5py.File('/media/zahra/DATA/ex_3by3_dish_var_scatter_pt01/draco_synthesis_nofluc/maps/tstream_2.h5','r')\n",
    "ag_var=h5py.File('/media/zahra/DATA/ex_3by3_dish_var_scatter_pt01/draco_synthesis_nofluc/rand_gains/sig_no_fluc/app_gain_2.h5','r')\n",
    "rg_var=h5py.File('/media/zahra/DATA/ex_3by3_dish_var_scatter_pt01/draco_synthesis_nofluc/rand_gains/sig_no_fluc2.h5','r')\n",
    "\n",
    "gn_var=h5py.File('/media/zahra/DATA/ex_3by3_dish_var_scatter_pt01/draco_synthesis_nofluc/rand_gains/ts_final/app_gain_noise_2.h5','r')\n"
   ]
  },
  {
   "cell_type": "code",
   "execution_count": 3,
   "metadata": {},
   "outputs": [
    {
     "name": "stdout",
     "output_type": "stream",
     "text": [
      "Product directory: /media/zahra/DATA/ex_3by3_dish_var_scatter_pt01/bt_matrices\n",
      "[1.31089497e-02 9.42568310e-03 1.58701478e-02 6.00298620e+00\n",
      " 5.98536794e+00 6.00564054e+00 1.19866214e+01 1.19968662e+01\n",
      " 1.19874999e+01 1.31089497e-02 9.42568310e-03 1.58701478e-02\n",
      " 6.00298620e+00 5.98536794e+00 6.00564054e+00 1.19866214e+01\n",
      " 1.19968662e+01 1.19874999e+01]\n"
     ]
    }
   ],
   "source": [
    "m=manager.ProductManager.from_config('/media/zahra/DATA/ex_3by3_dish_var_scatter_pt01/prod_params_custom.yaml')\n",
    "\n",
    "#m_orig = manager.ProductManager.from_config('/home/zahra/PIPELINE/example_3by3_hiraxtrans_lmax_mmax_200/prod_params_custom.yaml')\n",
    "\n",
    "#correlation_arr,sum_counts,corr_counts=Bls_counts(m_orig)\n",
    "\n",
    "#ant1_org=correlation_arr[:,0].astype(int)\n",
    "#ant2_org=correlation_arr[:,1].astype(int)\n",
    "\n",
    "#Scatterplot(m)\n",
    "Ndish=9\n",
    "t=m.telescope\n",
    "x=t.feedpositions[:,0] #these are x and y positions not x and y polarizations\n",
    "y=t.feedpositions[:,1]\n",
    "\n",
    "print x"
   ]
  },
  {
   "cell_type": "code",
   "execution_count": 4,
   "metadata": {},
   "outputs": [
    {
     "name": "stdout",
     "output_type": "stream",
     "text": [
      "(9, 9)\n",
      "(36,)\n"
     ]
    }
   ],
   "source": [
    "xx,yy=np.meshgrid(x[:Ndish],y[:Ndish])\n",
    "antvec=np.arange(x[:Ndish].size)\n",
    "ant1_uv,ant2_uv=np.meshgrid(antvec,antvec)\n",
    "umat=xx*2-((xx)*2).transpose()\n",
    "print umat.shape\n",
    "vmat=yy*2-((yy)*2).transpose()\n",
    "isok=np.where(ant2_uv>ant1_uv)\n",
    "ant1_org_uv=ant1_uv[isok]\n",
    "ant2_org_uv=ant2_uv[isok]\n",
    "u_org=umat[isok]\n",
    "print u_org.shape\n",
    "v_org=vmat[isok]"
   ]
  },
  {
   "cell_type": "code",
   "execution_count": 5,
   "metadata": {},
   "outputs": [
    {
     "name": "stdout",
     "output_type": "stream",
     "text": [
      "(0.012207031977595827, 'sigma_gn')\n",
      "(36,) (36,)\n"
     ]
    }
   ],
   "source": [
    "time_channel=400\n",
    "Ndish=9\n",
    "Nbls=9*8/2\n",
    "random_pt1=np.load('random_pt1.npy')\n",
    "run=1\n",
    "\n",
    "v1=np.zeros(2*Nbls)\n",
    "v1[0::2]=1\n",
    "v2=np.zeros(2*Nbls)\n",
    "v2[1::2]=1\n",
    "vecs=1.e3*np.vstack([v1,v2])\n",
    "src=np.zeros(2*Nbls)\n",
    "arr=Visibilities_grid(m,ts_var,rg_var,ag_var, gn_var,time_channel,50,1)\n",
    "vis_org=arr[2][:,time_channel]\n",
    "sigma=arr[-1]\n",
    "noise_org=sigma**2*np.ones(2*Nbls)\n",
    "\n",
    "print vis_org.shape, u_org.shape"
   ]
  },
  {
   "cell_type": "code",
   "execution_count": 54,
   "metadata": {},
   "outputs": [
    {
     "name": "stdout",
     "output_type": "stream",
     "text": [
      "(37,)\n"
     ]
    }
   ],
   "source": [
    "vis,u,v,noise,ant1,ant2,edges,_,_=corrcal2.grid_data(vis_org,u_org,v_org,noise_org,ant1_org_uv,ant2_org_uv, tol=0.01)\n",
    "print edges.shape"
   ]
  },
  {
   "cell_type": "code",
   "execution_count": 7,
   "metadata": {},
   "outputs": [
    {
     "name": "stdout",
     "output_type": "stream",
     "text": [
      "Warning: Desired error not necessarily achieved due to precision loss.\n",
      "         Current function value: 0.005926\n",
      "         Iterations: 1\n",
      "         Function evaluations: 75\n",
      "         Gradient evaluations: 61\n",
      "[1.07606107 0.93874414 0.89563328 1.24816236 0.87842354 0.93795812\n",
      " 0.88412548 0.94902632 1.11615165]\n"
     ]
    }
   ],
   "source": [
    "\n",
    "big_noise=np.zeros(2*noise.size)\n",
    "big_noise[0::2]=noise\n",
    "big_noise[1::2]=noise\n",
    "\n",
    "big_vis=np.zeros(2*vis.size)\n",
    "big_vis[0::2]=np.real(vis)\n",
    "big_vis[1::2]=np.imag(vis)\n",
    "\n",
    "mat=corrcal2.sparse_2level(big_noise,vecs,src,2*edges) #init\n",
    "\n",
    "gain=rg_var['gain'][0,:Ndish,time_channel]\n",
    "sim_gains=np.append(gain.real,gain.imag)\n",
    "sim_gains=np.zeros(Ndish*2)\n",
    "sim_gains[0::2]=gain.real\n",
    "sim_gains[1::2]=gain.imag\n",
    "sim_gains_amp=sim_gains[0::2]\n",
    "sim_gains_phase=sim_gains[1::2]\n",
    "\n",
    "mult=random_pt1+1.\n",
    "gvec=np.array([])\n",
    "for i in range(len(sim_gains)):\n",
    "    gvec=np.append(gvec,sim_gains[i]+random_pt1[i])\n",
    "    #gvec=np.append(gvec,sim_gains[i]*mult[i])\n",
    "\n",
    "fac=1.;\n",
    "normfac=1.\n",
    "asdf=fmin_cg(corrcal2.get_chisq,gvec*fac,corrcal2.get_gradient,(big_vis,mat,ant1,ant2,fac,normfac))\n",
    "#asdf=fmin_cg(corrcal2.get_chisq_dense,gvec*fac,corrcal2.get_gradient_dense,(data,diag_mat,vecs_mat,ant1,ant2,fac,normfac))\n",
    "fit_gains_run=asdf/fac\n",
    "\n",
    "rec_gains_amp=fit_gains_run[0::2]\n",
    "\n",
    "print rec_gains_amp"
   ]
  },
  {
   "cell_type": "code",
   "execution_count": 8,
   "metadata": {},
   "outputs": [
    {
     "data": {
      "image/png": "[encoded data removed]",
      "text/plain": [
       "<Figure size 432x288 with 1 Axes>"
      ]
     },
     "metadata": {},
     "output_type": "display_data"
    }
   ],
   "source": [
    "fig, ax = plt.subplots()\n",
    "\n",
    "lims = [0.5,  # min of both axes\n",
    "    np.max([ax.get_xlim()]),  # max of both axes\n",
    "]\n",
    "ax.scatter(sim_gains_amp, rec_gains_amp)\n",
    "#ax.plot(lims, lims,'g')\n",
    "#plt.errorbar(x_true_real[:Ndish,time_channel],x_rec_real[:Ndish,time_channel],xerr=None,yerr=error[:Ndish],linestyle=\"None\")\n",
    "plt.xlabel('Simulated gains')\n",
    "plt.ylabel('Recovered gains')\n",
    "lim=.002\n",
    "#plt.ylim(0.9,1.025)\n",
    "#plt.xlim(0.9,1.1)"
   ]
  },
  {
   "cell_type": "code",
   "execution_count": null,
   "metadata": {},
   "outputs": [],
   "source": []
  },
  {
   "cell_type": "code",
   "execution_count": null,
   "metadata": {},
   "outputs": [],
   "source": []
  }
 ],
 "metadata": {
  "kernelspec": {
   "display_name": "Python 2",
   "language": "python",
   "name": "python2"
  },
  "language_info": {
   "codemirror_mode": {
    "name": "ipython",
    "version": 2
   },
   "file_extension": ".py",
   "mimetype": "text/x-python",
   "name": "python",
   "nbconvert_exporter": "python",
   "pygments_lexer": "ipython2",
   "version": "2.7.15"
  }
 },
 "nbformat": 4,
 "nbformat_minor": 2
}
