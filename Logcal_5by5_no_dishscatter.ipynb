{
 "cells": [
  {
   "cell_type": "code",
   "execution_count": 15,
   "metadata": {},
   "outputs": [],
   "source": [
    "import h5py\n",
    "import matplotlib.pyplot as plt\n",
    "import numpy as np\n",
    "import pylab\n",
    "import scipy as sp\n",
    "import matplotlib.patches as mpatches\n",
    "from drift.core import manager\n",
    "from scipy.sparse import lil_matrix\n",
    "import sys\n",
    "sys.path.insert(0,'/home/zahra/PIPELINE')\n",
    "from log_red_cal_new import Visibilities_grid, A_matrix, colour_scatterplot, Bls_counts, Scatterplot"
   ]
  },
  {
   "cell_type": "code",
   "execution_count": 16,
   "metadata": {},
   "outputs": [
    {
     "data": {
      "text/plain": [
       "\"\\nts_2=h5py.File('/media/zahra/DATA/5by5_dishvar_trial2/draco_synthesis/maps/tstream_2.h5','r')\\nag_2=h5py.File('/media/zahra/DATA/5by5_dishvar_trial2/draco_synthesis/rand_gains/amp_phase/app_gain_2.h5','r')\\nrg_2=h5py.File('/media/zahra/DATA/5by5_dishvar_trial2/draco_synthesis/rand_gains/sig_2.h5','r')\\n\\ngn_2=h5py.File('/media/zahra/DATA/5by5_dishvar_trial2/draco_synthesis/rand_gains/ts_final/app_gain_noise_2.h5','r')\\n\\n\""
      ]
     },
     "execution_count": 16,
     "metadata": {},
     "output_type": "execute_result"
    }
   ],
   "source": [
    "\n",
    "#ts_2=h5py.File('/media/zahra/DATA/example_5by5_lmax_200_no_scatter/draco_synthesis_no_fluc/maps/tstream_2.h5','r')\n",
    "#ag_2=h5py.File('/media/zahra/DATA/example_5by5_lmax_200_no_scatter/draco_synthesis_no_fluc/rand_gains/amp_phase/app_gain_2.h5','r')\n",
    "#rg_2=h5py.File('/media/zahra/DATA/example_5by5_lmax_200_no_scatter/draco_synthesis_no_fluc/rand_gains/sig_2.h5','r')\n",
    "\n",
    "#gn_2=h5py.File('/media/zahra/DATA/example_5by5_lmax_200_no_scatter/draco_synthesis_no_fluc/rand_gains/ts_final/app_gain_noise_2.h5','r')\n",
    "\n",
    "\n",
    "ts_2=h5py.File('/media/zahra/DATA/5by5_dishvar_pt1/draco_synthesis/maps/tstream_2.h5','r')\n",
    "ag_2=h5py.File('/media/zahra/DATA/5by5_dishvar_pt1/draco_synthesis/rand_gains/amp_phase/app_gain_2.h5','r')\n",
    "rg_2=h5py.File('/media/zahra/DATA/5by5_dishvar_pt1/draco_synthesis/rand_gains/sig_2.h5','r')\n",
    "\n",
    "gn_2=h5py.File('/media/zahra/DATA/5by5_dishvar_pt1/draco_synthesis/rand_gains/ts_final/app_gain_noise_2.h5','r')\n",
    "\n",
    "'''\n",
    "ts_2=h5py.File('/media/zahra/DATA/5by5_dishvar_trial2/draco_synthesis/maps/tstream_2.h5','r')\n",
    "ag_2=h5py.File('/media/zahra/DATA/5by5_dishvar_trial2/draco_synthesis/rand_gains/amp_phase/app_gain_2.h5','r')\n",
    "rg_2=h5py.File('/media/zahra/DATA/5by5_dishvar_trial2/draco_synthesis/rand_gains/sig_2.h5','r')\n",
    "\n",
    "gn_2=h5py.File('/media/zahra/DATA/5by5_dishvar_trial2/draco_synthesis/rand_gains/ts_final/app_gain_noise_2.h5','r')\n",
    "\n",
    "'''"
   ]
  },
  {
   "cell_type": "code",
   "execution_count": 17,
   "metadata": {},
   "outputs": [
    {
     "name": "stdout",
     "output_type": "stream",
     "text": [
      "Product directory: /media/zahra/DATA/example_5by5_lmax_200_no_scatter/bt_matrices\n"
     ]
    }
   ],
   "source": [
    "time_channel=400\n",
    "after_gain=ag_2\n",
    "rand_gain=rg_2\n",
    "Ndish=25\n",
    "avg_reals=30\n",
    "\n",
    "m = manager.ProductManager.from_config('/media/zahra/DATA/example_5by5_lmax_200_no_scatter/prod_params_custom.yaml')\n",
    "\n",
    "t=m.telescope\n"
   ]
  },
  {
   "cell_type": "raw",
   "metadata": {},
   "source": [
    "meas_vis_no_noise=Visibilities_grid(m,ts_2,rand_gain,after_gain,gn_2,time_channel, 5000, 1)[1][:, time_channel]\n",
    "\n",
    "plt.plot(np.abs(meas_vis_no_noise))\n",
    "#plt.plot(np.abs(meas_vis_gnoise[:,time_channel]))\n",
    "plt.show()"
   ]
  },
  {
   "cell_type": "raw",
   "metadata": {},
   "source": [
    "print (A_matrix(m)[0].shape,'A')\n",
    "print Bls_counts(m), 'Bls counts'\n"
   ]
  },
  {
   "cell_type": "code",
   "execution_count": 18,
   "metadata": {},
   "outputs": [
    {
     "name": "stdout",
     "output_type": "stream",
     "text": [
      "(0.012207031977595827, 'sigma_gn')\n",
      "(0.012207031977595827, 'sigma_gn')\n",
      "(0.012207031977595827, 'sigma_gn')\n",
      "(0.012207031977595827, 'sigma_gn')\n",
      "(0.012207031977595827, 'sigma_gn')\n",
      "(0.012207031977595827, 'sigma_gn')\n",
      "(0.012207031977595827, 'sigma_gn')\n",
      "(0.012207031977595827, 'sigma_gn')\n",
      "(0.012207031977595827, 'sigma_gn')\n",
      "(0.012207031977595827, 'sigma_gn')\n",
      "(0.012207031977595827, 'sigma_gn')\n",
      "(0.012207031977595827, 'sigma_gn')\n",
      "(0.012207031977595827, 'sigma_gn')\n",
      "(0.012207031977595827, 'sigma_gn')\n",
      "(0.012207031977595827, 'sigma_gn')\n",
      "(0.012207031977595827, 'sigma_gn')\n",
      "(0.012207031977595827, 'sigma_gn')\n",
      "(0.012207031977595827, 'sigma_gn')\n",
      "(0.012207031977595827, 'sigma_gn')\n",
      "(0.012207031977595827, 'sigma_gn')\n",
      "(0.012207031977595827, 'sigma_gn')\n",
      "(0.012207031977595827, 'sigma_gn')\n",
      "(0.012207031977595827, 'sigma_gn')\n",
      "(0.012207031977595827, 'sigma_gn')\n",
      "(0.012207031977595827, 'sigma_gn')\n",
      "(0.012207031977595827, 'sigma_gn')\n",
      "(0.012207031977595827, 'sigma_gn')\n",
      "(0.012207031977595827, 'sigma_gn')\n",
      "(0.012207031977595827, 'sigma_gn')\n",
      "(0.012207031977595827, 'sigma_gn')\n",
      "(0.012207031977595827, 'sigma_gn')\n",
      "(0.012207031977595827, 'sigma_gn')\n",
      "(0.012207031977595827, 'sigma_gn')\n",
      "(0.012207031977595827, 'sigma_gn')\n",
      "(0.012207031977595827, 'sigma_gn')\n",
      "(0.012207031977595827, 'sigma_gn')\n",
      "(0.012207031977595827, 'sigma_gn')\n",
      "(0.012207031977595827, 'sigma_gn')\n",
      "(0.012207031977595827, 'sigma_gn')\n",
      "(0.012207031977595827, 'sigma_gn')\n",
      "(0.012207031977595827, 'sigma_gn')\n",
      "(0.012207031977595827, 'sigma_gn')\n",
      "(0.012207031977595827, 'sigma_gn')\n",
      "(0.012207031977595827, 'sigma_gn')\n",
      "(0.012207031977595827, 'sigma_gn')\n",
      "(0.012207031977595827, 'sigma_gn')\n",
      "(0.012207031977595827, 'sigma_gn')\n",
      "(0.012207031977595827, 'sigma_gn')\n",
      "(0.012207031977595827, 'sigma_gn')\n",
      "(0.012207031977595827, 'sigma_gn')\n",
      "(0.012207031977595827, 'sigma_gn')\n",
      "(0.012207031977595827, 'sigma_gn')\n",
      "(0.012207031977595827, 'sigma_gn')\n",
      "(0.012207031977595827, 'sigma_gn')\n",
      "(0.012207031977595827, 'sigma_gn')\n",
      "(0.012207031977595827, 'sigma_gn')\n",
      "(0.012207031977595827, 'sigma_gn')\n",
      "(0.012207031977595827, 'sigma_gn')\n",
      "(0.012207031977595827, 'sigma_gn')\n",
      "(0.012207031977595827, 'sigma_gn')\n",
      "(0.012207031977595827, 'sigma_gn')\n",
      "(0.012207031977595827, 'sigma_gn')\n",
      "(0.012207031977595827, 'sigma_gn')\n",
      "(0.012207031977595827, 'sigma_gn')\n",
      "(0.012207031977595827, 'sigma_gn')\n",
      "(0.012207031977595827, 'sigma_gn')\n",
      "(0.012207031977595827, 'sigma_gn')\n",
      "(0.012207031977595827, 'sigma_gn')\n",
      "(0.012207031977595827, 'sigma_gn')\n",
      "(0.012207031977595827, 'sigma_gn')\n",
      "(0.012207031977595827, 'sigma_gn')\n",
      "(0.012207031977595827, 'sigma_gn')\n",
      "(0.012207031977595827, 'sigma_gn')\n",
      "(0.012207031977595827, 'sigma_gn')\n",
      "(0.012207031977595827, 'sigma_gn')\n",
      "(0.012207031977595827, 'sigma_gn')\n",
      "(0.012207031977595827, 'sigma_gn')\n",
      "(0.012207031977595827, 'sigma_gn')\n",
      "(0.012207031977595827, 'sigma_gn')\n",
      "(0.012207031977595827, 'sigma_gn')\n",
      "(0.012207031977595827, 'sigma_gn')\n",
      "(0.012207031977595827, 'sigma_gn')\n",
      "(0.012207031977595827, 'sigma_gn')\n",
      "(0.012207031977595827, 'sigma_gn')\n",
      "(0.012207031977595827, 'sigma_gn')\n",
      "(0.012207031977595827, 'sigma_gn')\n",
      "(0.012207031977595827, 'sigma_gn')\n",
      "(0.012207031977595827, 'sigma_gn')\n",
      "(0.012207031977595827, 'sigma_gn')\n",
      "(0.012207031977595827, 'sigma_gn')\n",
      "(0.012207031977595827, 'sigma_gn')\n",
      "(0.012207031977595827, 'sigma_gn')\n",
      "(0.012207031977595827, 'sigma_gn')\n",
      "(0.012207031977595827, 'sigma_gn')\n",
      "(0.012207031977595827, 'sigma_gn')\n",
      "(0.012207031977595827, 'sigma_gn')\n",
      "(0.012207031977595827, 'sigma_gn')\n",
      "(0.012207031977595827, 'sigma_gn')\n",
      "(0.012207031977595827, 'sigma_gn')\n",
      "(0.012207031977595827, 'sigma_gn')\n",
      "(0.012207031977595827, 'sigma_gn')\n",
      "[-8.14304180e-12 -2.01382910e-10  8.52831139e-11  1.88311811e-10\n",
      " -5.51855228e-11  6.48612275e-11  3.99045241e-11 -1.99540606e-10\n",
      "  2.03372874e-11  2.52040611e-11 -1.20884858e-10  9.32973698e-11\n",
      "  1.53980606e-10  2.75346412e-11  5.64364111e-11 -2.50701682e-11\n",
      " -2.41675568e-11  3.09396953e-12 -9.01730912e-11  3.95039557e-12\n",
      " -1.58097757e-10 -3.44917428e-11  1.49346979e-10 -1.09659393e-10\n",
      " -1.44565693e-10]\n",
      "[[ 0.14602931 -0.09250484  0.10117321 ... -0.0365181   0.05632686\n",
      "  -0.13151858]\n",
      " [ 0.14948162 -0.09212252  0.10906888 ... -0.03722521  0.0593103\n",
      "  -0.14099563]\n",
      " [ 0.14871145 -0.09743937  0.1016308  ... -0.03305525  0.0497736\n",
      "  -0.13417186]\n",
      " ...\n",
      " [ 0.1472502  -0.09177666  0.1025643  ... -0.0376715   0.06359887\n",
      "  -0.14096581]\n",
      " [ 0.14634558 -0.09249572  0.09895792 ... -0.03832251  0.05181692\n",
      "  -0.13238857]\n",
      " [ 0.1518707  -0.09689336  0.10386676 ... -0.03689797  0.05996479\n",
      "  -0.14176161]]\n"
     ]
    }
   ],
   "source": [
    "runs=100\n",
    "Tsys=50\n",
    "\n",
    "x_true_real=Visibilities_grid(m,ts_2,rand_gain,after_gain,gn_2,time_channel, Tsys, 1)[7][:Ndish, time_channel]\n",
    "\n",
    "gg=np.zeros((runs,Ndish))\n",
    "for ind_run in range(runs):\n",
    "    gg[ind_run,:]=Visibilities_grid(m,ts_2,rand_gain,after_gain,gn_2,time_channel, Tsys, 1)[5][:Ndish, time_channel]\n",
    "\n",
    "print x_true_real\n",
    "print gg"
   ]
  },
  {
   "cell_type": "code",
   "execution_count": 19,
   "metadata": {},
   "outputs": [],
   "source": [
    "#np.save('gg_logcal_100runs_Tsys_50_ndays_1_5by5_gain_fluc_pt1',gg)\n",
    "#np.save('sim_gains_amp_logcal_100runs_Tsys_50_ndays_1_5by5_gain_fluc_pt1',x_true_real)\n"
   ]
  },
  {
   "cell_type": "code",
   "execution_count": 20,
   "metadata": {},
   "outputs": [],
   "source": [
    "#gg_logcal_pt1fluc=np.load('gg_logcal_100runs_Tsys_50_ndays_1_5by5_gain_fluc_pt1.npy')\n",
    "#sim_gains_logcal_pt1fluc=np.load('sim_gains_amp_logcal_100runs_Tsys_50_ndays_1_5by5_gain_fluc_pt1.npy')\n"
   ]
  },
  {
   "cell_type": "code",
   "execution_count": 21,
   "metadata": {},
   "outputs": [
    {
     "name": "stdout",
     "output_type": "stream",
     "text": [
      "0.06521721684986045 0.04974533275149474\n"
     ]
    }
   ],
   "source": [
    "gg_logcal, sim_gains_logcal = gg, x_true_real\n",
    "def gains_mean_and_rel_err(gg,sim_gains_amp):\n",
    "    gain_std=(np.std(gg,axis=0)/np.sqrt(runs)).flatten()\n",
    "    gain_mean=np.mean(gg,axis=0).flatten() #shape is 98, we take every second one for amp so shape is 49\n",
    "    rec_gains_mean_amp=gain_mean\n",
    "    rec_gains_std_amp=gain_std\n",
    "    rel_err_amp=np.abs(rec_gains_mean_amp-sim_gains_amp)/(sim_gains_amp)\n",
    "\n",
    "    rel_err_amp_mean=np.mean(rel_err_amp)\n",
    "    rel_err_amp_std=np.std(rel_err_amp,ddof=1)\n",
    "    return rec_gains_mean_amp, rec_gains_std_amp, rel_err_amp, rel_err_amp_mean, rel_err_amp_std\n",
    "\n",
    "rec_gains_mean_amp_2,_,rel_err_amp_2, rel_err_amp_mean_2 ,rel_err_amp_std_2 = gains_mean_and_rel_err(np.exp(gg_logcal),np.exp(sim_gains_logcal))\n",
    "\n",
    "print rel_err_amp_mean_2, rel_err_amp_std_2"
   ]
  },
  {
   "cell_type": "code",
   "execution_count": 22,
   "metadata": {},
   "outputs": [],
   "source": [
    "#np.save('gg_logcal_5by5_nogainfluc_Tsys_50_no_dish_scatter', gg)\n",
    "#np.save('sim_gains_logcal_5by5_nogainfluc_Tsys_50_no_dish_scatter', x_true_real)"
   ]
  },
  {
   "cell_type": "code",
   "execution_count": 23,
   "metadata": {},
   "outputs": [
    {
     "data": {
      "image/png": "[encoded data removed]",
      "text/plain": [
       "<Figure size 432x288 with 1 Axes>"
      ]
     },
     "metadata": {},
     "output_type": "display_data"
    }
   ],
   "source": [
    "fig, ax = plt.subplots()\n",
    "\n",
    "ax.scatter(np.exp(sim_gains_logcal),rec_gains_mean_amp_2)\n",
    "#ax.plot(lims, lims,'g')\n",
    "#plt.errorbar(x_true_real[:Ndish,time_channel],x_rec_real[:Ndish,time_channel],xerr=None,yerr=error[:Ndish],linestyle=\"None\")\n",
    "plt.xlabel('Simulated gains')\n",
    "plt.ylabel('Recovered gains')\n",
    "lim=.002\n",
    "#plt.ylim(0.998,1.002)\n",
    "#plt.savefig('avgd_recgains_vs_simgains_logcal_5by5_nogainfluc_Tsys_50_pt1_dish_scatter')\n",
    "\n",
    "plt.show()"
   ]
  },
  {
   "cell_type": "raw",
   "metadata": {},
   "source": [
    "print np.exp(rec_gains_mean_amp_2).min(), np.exp(rec_gains_mean_amp_2).max()"
   ]
  },
  {
   "cell_type": "code",
   "execution_count": 24,
   "metadata": {},
   "outputs": [
    {
     "data": {
      "image/png": "[encoded data removed]",
      "text/plain": [
       "<Figure size 432x288 with 2 Axes>"
      ]
     },
     "metadata": {},
     "output_type": "display_data"
    }
   ],
   "source": [
    "colour_scatterplot(m,rel_err_amp_2)"
   ]
  },
  {
   "cell_type": "code",
   "execution_count": 25,
   "metadata": {},
   "outputs": [],
   "source": [
    "def hist_rel_err_mean_std_logcal(gg,sim_gains_amp):\n",
    "    gg_amp=gg\n",
    "    rel_error=(np.abs(gg_amp-sim_gains_amp))/(sim_gains_amp)\n",
    "    gg_amp_mean=np.mean(rel_error,axis=1) #shape is number of runs\n",
    "    gg_amp_std=np.std(rel_error,axis=1, ddof=1)\n",
    "    return gg_amp_std, gg_amp_mean\n",
    "\n",
    "def hist_rel_err_mean_std(gg,sim_gains_amp):\n",
    "    gg_amp=gg[:,0::2]\n",
    "    rel_error=np.abs((gg_amp-sim_gains_amp))/sim_gains_amp\n",
    "    gg_amp_mean=np.mean(rel_error,axis=1) #shape is number of runs\n",
    "    gg_amp_std=np.std(rel_error,axis=1,ddof=1)\n",
    "    return gg_amp_std, gg_amp_mean\n"
   ]
  },
  {
   "cell_type": "raw",
   "metadata": {},
   "source": [
    "gg_corrcal_1m = np.load('gg_corrcal_dishvar_1m_nogainfluc_initguess_pt1.npy')\n",
    "simgains_corrcal_1m = np.load('simgains_corrcal_dishvar_1m_nogainfluc_initguess_pt1.npy')"
   ]
  },
  {
   "cell_type": "raw",
   "metadata": {},
   "source": [
    "np.exp(sim_gains_logcal).shape, np.exp(gg_logcal).shape, simgains_corrcal_1m.shape\n",
    "print gg_corrcal_1m[:,0::2]"
   ]
  },
  {
   "cell_type": "raw",
   "metadata": {},
   "source": [
    "gg_amp_std_1m_logcal=hist_rel_err_mean_std_logcal(np.exp(gg_logcal),np.exp(sim_gains_logcal))\n",
    "gg_amp_std_1m_corrcal=hist_rel_err_mean_std(gg_corrcal_1m,simgains_corrcal_1m)\n",
    "\n",
    "\n",
    "plt.hist(gg_amp_std_1m_corrcal,'auto',color='b')\n",
    "#plt.hist(gg_amp_std_1m_logcal,'auto',color='g')\n",
    "plt.title('Corrcal')\n",
    "plt.xlabel('Standard deviation')\n",
    "#plt.savefig('corrcal_stddev_100runs_50K_tsys_1m_dishvar.png')\n",
    "plt.show()\n",
    "\n",
    "plt.hist(gg_amp_std_1m_logcal,'auto',color='g')\n",
    "#plt.hist(gg_amp_std_1m_logcal,'auto',color='g')\n",
    "plt.xlabel('Standard deviation')\n",
    "plt.title('Logcal')\n",
    "#plt.savefig('logcal_stddev_100runs_50K_tsys_1m_dishvar.png')\n",
    "plt.show()\n",
    "\n"
   ]
  },
  {
   "cell_type": "code",
   "execution_count": 26,
   "metadata": {},
   "outputs": [
    {
     "data": {
      "image/png": "[encoded data removed]",
      "text/plain": [
       "<Figure size 432x288 with 1 Axes>"
      ]
     },
     "metadata": {},
     "output_type": "display_data"
    }
   ],
   "source": [
    "std, mean=hist_rel_err_mean_std_logcal(np.exp(gg_logcal),np.exp(sim_gains_logcal))\n",
    "plt.hist(std,'auto',color='g')\n",
    "#plt.hist(gg_amp_std_1m_logcal,'auto',color='g')\n",
    "plt.xlabel('Standard deviation')\n",
    "#plt.title('Logcal')\n",
    "#plt.savefig('std_hist_logcal_5by5_nogainfluc_Tsys_50_pt1_dish_scatter')\n",
    "plt.show()"
   ]
  },
  {
   "cell_type": "code",
   "execution_count": 27,
   "metadata": {},
   "outputs": [
    {
     "data": {
      "image/png": "[encoded data removed]",
      "text/plain": [
       "<Figure size 432x288 with 1 Axes>"
      ]
     },
     "metadata": {},
     "output_type": "display_data"
    }
   ],
   "source": [
    "plt.hist(mean,'auto',color='g')\n",
    "#plt.hist(gg_amp_std_1m_logcal,'auto',color='g')\n",
    "plt.xlabel('Mean')\n",
    "#plt.title('Logcal')\n",
    "#plt.savefig('mean_hist_logcal_5by5_nogainfluc_Tsys_50_pt1_dish_scatter')\n",
    "plt.show()"
   ]
  }
 ],
 "metadata": {
  "kernelspec": {
   "display_name": "Python 2",
   "language": "python",
   "name": "python2"
  },
  "language_info": {
   "codemirror_mode": {
    "name": "ipython",
    "version": 2
   },
   "file_extension": ".py",
   "mimetype": "text/x-python",
   "name": "python",
   "nbconvert_exporter": "python",
   "pygments_lexer": "ipython2",
   "version": "2.7.15"
  }
 },
 "nbformat": 4,
 "nbformat_minor": 2
}
