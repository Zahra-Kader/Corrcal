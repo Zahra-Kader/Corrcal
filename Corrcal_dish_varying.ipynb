{
 "cells": [
  {
   "cell_type": "code",
   "execution_count": 25,
   "metadata": {},
   "outputs": [],
   "source": [
    "import numpy as np\n",
    "import h5py,time, matplotlib.pyplot as plt\n",
    "from scipy.optimize import fmin_cg, minimize\n",
    "from drift.core import manager\n",
    "import corrcal2\n",
    "import sys\n",
    "sys.path.insert(0,'/home/zahra/PIPELINE')\n",
    "from log_red_cal_new import Visibilities_grid, Bls_counts, colour_scatterplot, Scatterplot\n",
    "from decimal import Decimal\n",
    "from operator import add,sub\n",
    "from scipy.optimize import LinearConstraint, BFGS, Bounds\n",
    "import scipy as sp\n"
   ]
  },
  {
   "cell_type": "code",
   "execution_count": 42,
   "metadata": {},
   "outputs": [],
   "source": [
    "ts_2=h5py.File('/home/zahra/PIPELINE/example_3by3_hiraxtrans_lmax_mmax_200/draco_synthesis_nofluc/maps/tstream_2.h5','r')\n",
    "ag_2=h5py.File('/home/zahra/PIPELINE/example_3by3_hiraxtrans_lmax_mmax_200/draco_synthesis_nofluc/rand_gains/sig_no_fluc/app_gain_2.h5','r')\n",
    "rg_2=h5py.File('/home/zahra/PIPELINE/example_3by3_hiraxtrans_lmax_mmax_200/draco_synthesis_nofluc/rand_gains/sig_no_fluc2.h5','r')\n",
    "\n",
    "gn_2=h5py.File('/home/zahra/PIPELINE/example_3by3_hiraxtrans_lmax_mmax_200/draco_synthesis_nofluc/rand_gains/ts_final/app_gain_noise_2.h5','r')\n",
    "\n",
    "ts_var=h5py.File('/home/zahra/PIPELINE/ex_3by3_dish_var/draco_synthesis_nofluc/maps/tstream_2.h5','r')\n",
    "ag_var=h5py.File('/home/zahra/PIPELINE/ex_3by3_dish_var/draco_synthesis_nofluc/rand_gains/sig_no_fluc/app_gain_2.h5','r')\n",
    "rg_var=h5py.File('/home/zahra/PIPELINE/ex_3by3_dish_var/draco_synthesis_nofluc/rand_gains/sig_no_fluc2.h5','r')\n",
    "\n",
    "gn_var=h5py.File('/home/zahra/PIPELINE/ex_3by3_dish_var/draco_synthesis_nofluc/rand_gains/ts_final/app_gain_noise_2.h5','r')\n"
   ]
  },
  {
   "cell_type": "code",
   "execution_count": 44,
   "metadata": {},
   "outputs": [
    {
     "ename": "IndexError",
     "evalue": "index 18 is out of bounds for axis 0 with size 18",
     "output_type": "error",
     "traceback": [
      "\u001b[0;31m---------------------------------------------------------------------------\u001b[0m",
      "\u001b[0;31mIndexError\u001b[0m                                Traceback (most recent call last)",
      "\u001b[0;32m<ipython-input-44-d4d1d91295db>\u001b[0m in \u001b[0;36m<module>\u001b[0;34m()\u001b[0m\n\u001b[1;32m      5\u001b[0m \u001b[0;34m\u001b[0m\u001b[0m\n\u001b[1;32m      6\u001b[0m \u001b[0misok\u001b[0m\u001b[0;34m=\u001b[0m\u001b[0mnp\u001b[0m\u001b[0;34m.\u001b[0m\u001b[0mwhere\u001b[0m\u001b[0;34m(\u001b[0m\u001b[0mant1\u001b[0m\u001b[0;34m<\u001b[0m\u001b[0mant2\u001b[0m\u001b[0;34m)\u001b[0m\u001b[0;34m\u001b[0m\u001b[0m\n\u001b[0;32m----> 7\u001b[0;31m \u001b[0mu_org\u001b[0m\u001b[0;34m=\u001b[0m\u001b[0mumat\u001b[0m\u001b[0;34m[\u001b[0m\u001b[0misok\u001b[0m\u001b[0;34m]\u001b[0m\u001b[0;34m\u001b[0m\u001b[0m\n\u001b[0m\u001b[1;32m      8\u001b[0m \u001b[0mv_org\u001b[0m\u001b[0;34m=\u001b[0m\u001b[0mvmat\u001b[0m\u001b[0;34m[\u001b[0m\u001b[0misok\u001b[0m\u001b[0;34m]\u001b[0m\u001b[0;34m\u001b[0m\u001b[0m\n\u001b[1;32m      9\u001b[0m \u001b[0;34m\u001b[0m\u001b[0m\n",
      "\u001b[0;31mIndexError\u001b[0m: index 18 is out of bounds for axis 0 with size 18"
     ]
    }
   ],
   "source": [
    "xx,yy=np.meshgrid(x,y)\n",
    "umat=xx-xx.T\n",
    "vmat=yy-yy.T\n",
    "\n",
    "\n",
    "isok=np.where(ant1<ant2)\n",
    "u_org=umat[isok]\n",
    "v_org=vmat[isok]\n",
    "\n",
    "print u_org, v_org\n"
   ]
  },
  {
   "cell_type": "code",
   "execution_count": 49,
   "metadata": {},
   "outputs": [
    {
     "name": "stdout",
     "output_type": "stream",
     "text": [
      "Product directory: /home/zahra/PIPELINE/example_3by3_hiraxtrans_lmax_mmax_200/bt_matrices\n",
      "(36,) [3 4 5 6 7 8 1 2 4 5 7 8 4 5 7 8 3 4 6 7 6 7 8 2 5 8 7 8 6 7 5 8 3 6 8 6]\n",
      "[ 6 12 16 20 23 26 28 30 32 34 35 36]\n"
     ]
    }
   ],
   "source": [
    "m = manager.ProductManager.from_config('/home/zahra/PIPELINE/example_3by3_hiraxtrans_lmax_mmax_200/prod_params_custom.yaml')\n",
    "\n",
    "#m=manager.ProductManager.from_config('/home/zahra/PIPELINE/ex_3by3_dish_var/prod_params_custom.yaml')\n",
    "#Scatterplot(m)\n",
    "\n",
    "t=m.telescope\n",
    "x=t.feedpositions[:,0] #these are x and y positions not x and y polarizations\n",
    "y=t.feedpositions[:,1]\n",
    "\n",
    "\n",
    "#klobj=m.kltransforms['kl']\n",
    "\n",
    "time_channel=400\n",
    "Ndish=9\n",
    "correlation_arr,sum_counts,corr_counts=Bls_counts(m)\n",
    "\n",
    "Nbls,_=correlation_arr.shape\n",
    "\n",
    "v1=np.zeros(2*Nbls)\n",
    "v1[0::2]=1\n",
    "v2=np.zeros(2*Nbls)\n",
    "v2[1::2]=1\n",
    "vecs=1.e3*np.vstack([v1,v2])\n",
    "\n",
    "\n",
    "lims=sum_counts\n",
    "#lims=np.append(lims,lims)\n",
    "#diag=sigma**2*np.ones(72)/1000\n",
    "\n",
    "\n",
    "src=np.zeros(2*Nbls)\n",
    "#src=1000*v1\n",
    "\n",
    "ant1=correlation_arr[:,0].astype(int)\n",
    "ant2=correlation_arr[:,1].astype(int)\n",
    "\n",
    "print ant1.shape, ant2\n",
    "print lims"
   ]
  },
  {
   "cell_type": "code",
   "execution_count": 28,
   "metadata": {},
   "outputs": [
    {
     "name": "stdout",
     "output_type": "stream",
     "text": [
      "(0.012207031977595827, 'sigma_gn')\n",
      "0.012207031977595827\n",
      "Warning: Desired error not necessarily achieved due to precision loss.\n",
      "         Current function value: 527.638325\n",
      "         Iterations: 1\n",
      "         Function evaluations: 69\n",
      "         Gradient evaluations: 55\n",
      "(0.012207031977595827, 'sigma_gn')\n",
      "0.012207031977595827\n",
      "Warning: Desired error not necessarily achieved due to precision loss.\n",
      "         Current function value: 98.139354\n",
      "         Iterations: 1\n",
      "         Function evaluations: 90\n",
      "         Gradient evaluations: 76\n"
     ]
    }
   ],
   "source": [
    "runs=1\n",
    "random_pt1=np.load('random_pt1.npy')\n",
    "\n",
    "def fit_gains(m,file_no_gain,gain, file_with_gain,file_gain_noise, time_channel,Tsys,ndays,random):\n",
    "    gg=np.zeros((runs,Ndish*2))\n",
    "    for run in range(runs):\n",
    "        arr=Visibilities_grid(m,file_no_gain,gain,file_with_gain,file_gain_noise,time_channel,Tsys,ndays)\n",
    "        vis=arr[2][:,time_channel]\n",
    "        sigma=arr[-1]\n",
    "        diag=sigma**2*np.ones(2*Nbls)\n",
    "        print (sigma)\n",
    "        mat=corrcal2.sparse_2level(diag,vecs,src,2*lims) #init\n",
    "        \n",
    "        gain=gain['gain'][0,:Ndish,time_channel]\n",
    "        sim_gains=np.append(gain.real,gain.imag)\n",
    "        sim_gains=np.zeros(Ndish*2)\n",
    "        sim_gains[0::2]=gain.real\n",
    "        sim_gains[1::2]=gain.imag\n",
    "        sim_gains_amp=sim_gains[0::2]\n",
    "        sim_gains_phase=sim_gains[1::2]\n",
    "         \n",
    "        mult=random+1.\n",
    "\n",
    "        gvec=np.array([])\n",
    "        for i in range(len(sim_gains)):\n",
    "            gvec=np.append(gvec,sim_gains[i]+random[i])\n",
    "            #gvec=np.append(gvec,sim_gains[i]*mult[i])\n",
    "\n",
    "\n",
    "        data=np.zeros(2*vis.size)\n",
    "        data[0::2]=vis.real\n",
    "        data[1::2]=vis.imag\n",
    "        fac=1.;\n",
    "        normfac=1.\n",
    "        asdf=fmin_cg(corrcal2.get_chisq,gvec*fac,corrcal2.get_gradient,(data,mat,ant1,ant2,fac,normfac))\n",
    "        #asdf=fmin_cg(corrcal2.get_chisq_dense,gvec*fac,corrcal2.get_gradient_dense,(data,diag_mat,vecs_mat,ant1,ant2,fac,normfac))\n",
    "        fit_gains_run=asdf/fac\n",
    "        gg[run,:]=fit_gains_run\n",
    "        \n",
    "        gain_std=(np.std(gg,axis=0)/np.sqrt(runs)).flatten()\n",
    "        gain_mean=np.mean(gg,axis=0).flatten() #shape is 98, we take every second one for amp so shape is 49\n",
    "        rec_gains_amp=gain_mean[0::2]\n",
    "        rec_gains_phase=gain_mean[1::2]\n",
    "        gain_std_amp=gain_std[0::2]\n",
    "        gain_std_phase=gain_std[1::2]\n",
    "\n",
    "    return rec_gains_amp, sim_gains_amp\n",
    "    \n",
    "    \n",
    "rec_gains_amp_2, sim_gains_amp_2=fit_gains(m,ts_2,rg_2,ag_2, gn_2,time_channel,50,1,random_pt1)\n",
    "\n",
    "rec_gains_amp_var, sim_gains_amp_var=fit_gains(m,ts_var,rg_var,ag_var, gn_var,time_channel,50,1,random_pt1)\n"
   ]
  },
  {
   "cell_type": "code",
   "execution_count": 29,
   "metadata": {},
   "outputs": [],
   "source": [
    "def rel_err(rec_gains_amp,sim_gains_amp):\n",
    "    rel_err_amp=np.abs(rec_gains_amp-sim_gains_amp)/sim_gains_amp\n",
    "\n",
    "    rel_err_amp_mean=np.mean(rel_err_amp)\n",
    "    rel_err_amp_std=np.std(rel_err_amp,ddof=1)\n",
    "    return rec_gains_amp, rel_err_amp, rel_err_amp_mean, rel_err_amp_std\n",
    "\n",
    "rel_err_2=rel_err(rec_gains_amp_2,sim_gains_amp_2)\n",
    "\n",
    "rel_err_var=rel_err(rec_gains_amp_var,sim_gains_amp_var)\n"
   ]
  },
  {
   "cell_type": "code",
   "execution_count": 30,
   "metadata": {},
   "outputs": [
    {
     "data": {
      "text/plain": [
       "(array([1.07606134, 0.93874357, 0.89563575, 1.24816228, 0.87842268,\n",
       "        0.93795804, 0.88412302, 0.94902637, 1.11615181]),\n",
       " array([1., 1., 1., 1., 1., 1., 1., 1., 1.]))"
      ]
     },
     "execution_count": 30,
     "metadata": {},
     "output_type": "execute_result"
    }
   ],
   "source": [
    "rec_gains_amp_var, sim_gains_amp_var"
   ]
  },
  {
   "cell_type": "code",
   "execution_count": 31,
   "metadata": {},
   "outputs": [
    {
     "data": {
      "image/png": "[encoded data removed]",
      "text/plain": [
       "<Figure size 432x288 with 1 Axes>"
      ]
     },
     "metadata": {},
     "output_type": "display_data"
    }
   ],
   "source": [
    "fig, ax = plt.subplots()\n",
    "\n",
    "lims = [0.5,  # min of both axes\n",
    "    np.max([ax.get_xlim()]),  # max of both axes\n",
    "]\n",
    "ax.scatter(sim_gains_amp_var, rec_gains_amp_var)\n",
    "#ax.plot(lims, lims,'g')\n",
    "#plt.errorbar(x_true_real[:Ndish,time_channel],x_rec_real[:Ndish,time_channel],xerr=None,yerr=error[:Ndish],linestyle=\"None\")\n",
    "plt.xlabel('Simulated gains')\n",
    "plt.ylabel('Recovered gains')\n",
    "lim=.002\n",
    "#plt.ylim(0.9,1.025)\n",
    "#plt.xlim(0.9,1.1)"
   ]
  },
  {
   "cell_type": "code",
   "execution_count": null,
   "metadata": {},
   "outputs": [],
   "source": [
    "runs=1\n",
    "random_pt1=np.load('random_pt1.npy')\n",
    "\n",
    "def fit_gains_gridded(m,file_no_gain,gain, file_with_gain,file_gain_noise, time_channel,Tsys,ndays,random):\n",
    "    gg=np.zeros((runs,Ndish*2))\n",
    "    for run in range(runs):\n",
    "        arr=Visibilities_grid(m,file_no_gain,gain,file_with_gain,file_gain_noise,time_channel,Tsys,ndays)\n",
    "        vis=arr[2][:,time_channel]\n",
    "        sigma=arr[-1]\n",
    "        diag=sigma**2*np.ones(2*Nbls)\n",
    "        print (sigma)\n",
    "        mat=corrcal2.sparse_2level(diag,vecs,src,2*lims) #init\n",
    "        \n",
    "        gain=gain['gain'][0,:Ndish,time_channel]\n",
    "        sim_gains=np.append(gain.real,gain.imag)\n",
    "        sim_gains=np.zeros(Ndish*2)\n",
    "        sim_gains[0::2]=gain.real\n",
    "        sim_gains[1::2]=gain.imag\n",
    "        sim_gains_amp=sim_gains[0::2]\n",
    "        sim_gains_phase=sim_gains[1::2]\n",
    "         \n",
    "        mult=random+1.\n",
    "\n",
    "        gvec=np.array([])\n",
    "        for i in range(len(sim_gains)):\n",
    "            gvec=np.append(gvec,sim_gains[i]+random[i])\n",
    "            #gvec=np.append(gvec,sim_gains[i]*mult[i])\n",
    "\n",
    "\n",
    "        data=np.zeros(2*vis.size)\n",
    "        data[0::2]=vis.real\n",
    "        data[1::2]=vis.imag\n",
    "        fac=1.;\n",
    "        normfac=1.\n",
    "        asdf=fmin_cg(corrcal2.get_chisq,gvec*fac,corrcal2.get_gradient,(data,mat,ant1,ant2,fac,normfac))\n",
    "        #asdf=fmin_cg(corrcal2.get_chisq_dense,gvec*fac,corrcal2.get_gradient_dense,(data,diag_mat,vecs_mat,ant1,ant2,fac,normfac))\n",
    "        fit_gains_run=asdf/fac\n",
    "        gg[run,:]=fit_gains_run\n",
    "        \n",
    "        gain_std=(np.std(gg,axis=0)/np.sqrt(runs)).flatten()\n",
    "        gain_mean=np.mean(gg,axis=0).flatten() #shape is 98, we take every second one for amp so shape is 49\n",
    "        rec_gains_amp=gain_mean[0::2]\n",
    "        rec_gains_phase=gain_mean[1::2]\n",
    "        gain_std_amp=gain_std[0::2]\n",
    "        gain_std_phase=gain_std[1::2]\n",
    "\n",
    "    return rec_gains_amp, sim_gains_amp\n",
    "    \n",
    "    \n",
    "rec_gains_amp_2, sim_gains_amp_2=fit_gains(m,ts_2,rg_2,ag_2, gn_2,time_channel,50,1,random_pt1)\n",
    "\n",
    "rec_gains_amp_var, sim_gains_amp_var=fit_gains(m,ts_var,rg_var,ag_var, gn_var,time_channel,50,1,random_pt1)\n"
   ]
  },
  {
   "cell_type": "code",
   "execution_count": 23,
   "metadata": {},
   "outputs": [
    {
     "data": {
      "text/plain": [
       "(0.9, 1.1)"
      ]
     },
     "execution_count": 23,
     "metadata": {},
     "output_type": "execute_result"
    },
    {
     "data": {
      "image/png": "[encoded data removed]",
      "text/plain": [
       "<Figure size 432x288 with 1 Axes>"
      ]
     },
     "metadata": {},
     "output_type": "display_data"
    }
   ],
   "source": [
    "fig, ax = plt.subplots()\n",
    "\n",
    "lims = [0.5,  # min of both axes\n",
    "    np.max([ax.get_xlim()]),  # max of both axes\n",
    "]\n",
    "ax.scatter(sim_gains_amp_2, rec_gains_amp_2)\n",
    "ax.plot(lims, lims,'g')\n",
    "#plt.errorbar(x_true_real[:Ndish,time_channel],x_rec_real[:Ndish,time_channel],xerr=None,yerr=error[:Ndish],linestyle=\"None\")\n",
    "plt.xlabel('Simulated gains')\n",
    "plt.ylabel('Recovered gains')\n",
    "lim=.002\n",
    "plt.ylim(0.9,1.025)\n",
    "plt.xlim(0.9,1.1)"
   ]
  },
  {
   "cell_type": "code",
   "execution_count": null,
   "metadata": {},
   "outputs": [],
   "source": []
  }
 ],
 "metadata": {
  "kernelspec": {
   "display_name": "Python 2",
   "language": "python",
   "name": "python2"
  },
  "language_info": {
   "codemirror_mode": {
    "name": "ipython",
    "version": 2
   },
   "file_extension": ".py",
   "mimetype": "text/x-python",
   "name": "python",
   "nbconvert_exporter": "python",
   "pygments_lexer": "ipython2",
   "version": "2.7.15"
  }
 },
 "nbformat": 4,
 "nbformat_minor": 2
}
