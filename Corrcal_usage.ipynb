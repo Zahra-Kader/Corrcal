{
 "cells": [
  {
   "cell_type": "code",
   "execution_count": 2,
   "metadata": {},
   "outputs": [],
   "source": [
    "import numpy as np\n",
    "import h5py,time, matplotlib.pyplot as plt\n",
    "from scipy.optimize import fmin_cg, minimize\n",
    "from drift.core import manager\n",
    "import corrcal2\n",
    "import sys\n",
    "sys.path.insert(0,'/home/zahra/PIPELINE')\n",
    "from log_red_cal_new import Visibilities_grid, Bls_counts, colour_scatterplot, Scatterplot\n",
    "from decimal import Decimal\n",
    "from operator import add,sub\n",
    "from scipy.optimize import LinearConstraint, BFGS, Bounds\n",
    "import scipy as sp\n",
    "\n",
    "ops=(add,sub)\n"
   ]
  },
  {
   "cell_type": "code",
   "execution_count": 3,
   "metadata": {},
   "outputs": [],
   "source": [
    "'''\n",
    "ts_10=h5py.File('/home/zahra/PIPELINE/example_7by7_lmax_mmax_250/draco_synthesis_input_amp_10/maps/tstream_2.h5','r')\n",
    "ag_10=h5py.File('/home/zahra/PIPELINE/example_7by7_lmax_mmax_250/draco_synthesis_input_amp_10/rand_gains/amp_phase/app_gain_2.h5','r')\n",
    "rg_10=h5py.File('/home/zahra/PIPELINE/example_7by7_lmax_mmax_250/draco_synthesis_input_amp_10/rand_gains/sig_2.h5','r')\n",
    "gn_10_50_1=h5py.File('/home/zahra/PIPELINE/example_7by7_lmax_mmax_250/draco_synthesis_input_amp_10/rand_gains/ts_final_50K_1day/app_gain_noise_2.h5','r')\n",
    "\n",
    "\n",
    "ts_100=h5py.File('/home/zahra/PIPELINE/example_7by7_lmax_mmax_250/draco_synthesis_input_amp_100/maps/tstream_2.h5','r')\n",
    "ag_100=h5py.File('/home/zahra/PIPELINE/example_7by7_lmax_mmax_250/draco_synthesis_input_amp_100/rand_gains/amp_phase/app_gain_2.h5','r')\n",
    "rg_100=h5py.File('/home/zahra/PIPELINE/example_7by7_lmax_mmax_250/draco_synthesis_input_amp_100/rand_gains/sig_2.h5','r')\n",
    "gn_100_50_1=h5py.File('/home/zahra/PIPELINE/example_7by7_lmax_mmax_250/draco_synthesis_input_amp_100/rand_gains/ts_final_50K_1day/app_gain_noise_2.h5','r')\n",
    "\n",
    "\n",
    "ts_1000=h5py.File('/home/zahra/PIPELINE/example_7by7_lmax_mmax_250/draco_synthesis_input_amp_1000/maps/tstream_2.h5','r')\n",
    "ag_1000=h5py.File('/home/zahra/PIPELINE/example_7by7_lmax_mmax_250/draco_synthesis_input_amp_1000/rand_gains/amp_phase/app_gain_2.h5','r')\n",
    "rg_1000=h5py.File('/home/zahra/PIPELINE/example_7by7_lmax_mmax_250/draco_synthesis_input_amp_1000/rand_gains/sig_2.h5','r')\n",
    "gn_1000_50_1=h5py.File('/home/zahra/PIPELINE/example_7by7_lmax_mmax_250/draco_synthesis_input_amp_1000/rand_gains/ts_final_50K_1day/app_gain_noise_2.h5','r')\n",
    "\n",
    "ts_10000=h5py.File('/home/zahra/PIPELINE/example_7by7_lmax_mmax_250/draco_synthesis_input_amp_10000/maps/tstream_2.h5','r')\n",
    "ag_10000=h5py.File('/home/zahra/PIPELINE/example_7by7_lmax_mmax_250/draco_synthesis_input_amp_10000/rand_gains/amp_phase/app_gain_2.h5','r')\n",
    "rg_10000=h5py.File('/home/zahra/PIPELINE/example_7by7_lmax_mmax_250/draco_synthesis_input_amp_10000/rand_gains/sig_2.h5','r')\n",
    "gn_10000_50_1=h5py.File('/home/zahra/PIPELINE/example_7by7_lmax_mmax_250/draco_synthesis_input_amp_10000/rand_gains/ts_final_50K_1day/app_gain_noise_2.h5','r')\n",
    "\n",
    "\n",
    "ts_10_3=h5py.File('/home/zahra/PIPELINE/example_7by7_lmax_mmax_250/draco_synthesis_input_amp_10_sigma_3/maps/tstream_2.h5','r')\n",
    "ag_10_3=h5py.File('/home/zahra/PIPELINE/example_7by7_lmax_mmax_250/draco_synthesis_input_amp_10_sigma_3/rand_gains/amp_phase/app_gain_2.h5','r')\n",
    "rg_10_3=h5py.File('/home/zahra/PIPELINE/example_7by7_lmax_mmax_250/draco_synthesis_input_amp_10_sigma_3/rand_gains/sig_2.h5','r')\n",
    "gn_10_50_1_3=h5py.File('/home/zahra/PIPELINE/example_7by7_lmax_mmax_250/draco_synthesis_input_amp_10_sigma_3/rand_gains/ts_final_50K_1day/app_gain_noise_2.h5','r')\n",
    "\n",
    "ts_10_5=h5py.File('/home/zahra/PIPELINE/example_7by7_lmax_mmax_250/draco_synthesis_input_amp_10_sigma_5/maps/tstream_2.h5','r')\n",
    "ag_10_5=h5py.File('/home/zahra/PIPELINE/example_7by7_lmax_mmax_250/draco_synthesis_input_amp_10_sigma_5/rand_gains/amp_phase/app_gain_2.h5','r')\n",
    "rg_10_5=h5py.File('/home/zahra/PIPELINE/example_7by7_lmax_mmax_250/draco_synthesis_input_amp_10_sigma_5/rand_gains/sig_2.h5','r')\n",
    "gn_10_50_1_5=h5py.File('/home/zahra/PIPELINE/example_7by7_lmax_mmax_250/draco_synthesis_input_amp_10_sigma_5/rand_gains/ts_final_50K_1day/app_gain_noise_2.h5','r')\n",
    "\n",
    "'''\n",
    "\n",
    "ts_2=h5py.File('/home/zahra/PIPELINE/example_3by3_hiraxtrans_lmax_mmax_200/draco_synthesis_nofluc/maps/tstream_2.h5','r')\n",
    "ag_2=h5py.File('/home/zahra/PIPELINE/example_3by3_hiraxtrans_lmax_mmax_200/draco_synthesis_nofluc/rand_gains/sig_no_fluc/app_gain_2.h5','r')\n",
    "rg_2=h5py.File('/home/zahra/PIPELINE/example_3by3_hiraxtrans_lmax_mmax_200/draco_synthesis_nofluc/rand_gains/sig_no_fluc2.h5','r')\n",
    "\n",
    "gn_2=h5py.File('/home/zahra/PIPELINE/example_3by3_hiraxtrans_lmax_mmax_200/draco_synthesis_nofluc/rand_gains/ts_final/app_gain_noise_2.h5','r')\n"
   ]
  },
  {
   "cell_type": "raw",
   "metadata": {},
   "source": [
    "gain=rg_2['gain'][0,:Ndish,time_channel]\n",
    "print (gain)\n",
    "plt.loglog(gain)"
   ]
  },
  {
   "cell_type": "code",
   "execution_count": 4,
   "metadata": {},
   "outputs": [
    {
     "name": "stdout",
     "output_type": "stream",
     "text": [
      "Product directory: /home/zahra/PIPELINE/example_3by3_hiraxtrans_lmax_mmax_200/bt_matrices\n"
     ]
    }
   ],
   "source": [
    "#m=manager.ProductManager.from_config('/home/zahra/PIPELINE/ex_3by3_kl/prod_params_custom.yaml')\n",
    "#m=manager.ProductManager.from_config('/home/zahra/PIPELINE/example_7by7_lmax_mmax_250/prod_params_custom.yaml')\n",
    "#m=manager.ProductManager.from_config('/home/zahra/PIPELINE/ex_7by7_hex/prod_params_custom.yaml')\n",
    "\n",
    "m = manager.ProductManager.from_config('/home/zahra/PIPELINE/example_3by3_hiraxtrans_lmax_mmax_200/prod_params_custom.yaml')\n",
    "\n",
    "#Scatterplot(m)\n",
    "\n",
    "t=m.telescope\n",
    "x=t.feedpositions[:,0] #these are x and y positions not x and y polarizations\n",
    "y=t.feedpositions[:,1]\n",
    "\n",
    "\n",
    "#klobj=m.kltransforms['kl']\n",
    "\n",
    "time_channel=400\n",
    "Ndish=9\n",
    "correlation_arr,sum_counts,corr_counts=Bls_counts(m)\n",
    "\n",
    "Nbls,_=correlation_arr.shape\n",
    "\n",
    "\n",
    "time_arr=np.arange(325,335,1)\n",
    "\n",
    "\n",
    "\n",
    "def Vis_arr_real(Nbls,time_arr):\n",
    "    vis_arr=np.zeros((Nbls,time_arr.size))\n",
    "    for i in range(Nbls):\n",
    "        for j in range(len(time_arr)):\n",
    "            int_time_arr=np.int(time_arr[j])\n",
    "            vis_arr[np.int(i),np.int(j)]=arr[2][i,int_time_arr].real\n",
    "    return np.mean(vis_arr,axis=1)\n",
    "\n",
    "\n",
    "\n",
    "def Vis_arr_imag(Nbls,time_arr):\n",
    "    vis_arr=np.zeros((Nbls,time_arr.size))\n",
    "    for i in range(Nbls):\n",
    "        for j in range(len(time_arr)):\n",
    "            int_time_arr=np.int(time_arr[j])\n",
    "            vis_arr[np.int(i),np.int(j)]=arr[2][i,int_time_arr].imag\n",
    "    return np.mean(vis_arr,axis=1)\n",
    "\n",
    "\n",
    "v1=np.zeros(2*Nbls)\n",
    "v1[0::2]=1\n",
    "v2=np.zeros(2*Nbls)\n",
    "v2[1::2]=1\n",
    "vecs=1.e3*np.vstack([v1,v2])\n",
    "\n",
    "\n",
    "lims=sum_counts\n",
    "#lims=np.append(lims,lims)\n",
    "#diag=sigma**2*np.ones(72)/1000\n",
    "\n",
    "\n",
    "src=np.zeros(2*Nbls)\n",
    "#src=1000*v1\n",
    "\n",
    "ant1=correlation_arr[:,0].astype(int)\n",
    "ant2=correlation_arr[:,1].astype(int)\n",
    "\n",
    "#random_10_5=np.random.normal(0,1.5,2*Ndish)\n",
    "#np.save('random_10_5',random_10_5)"
   ]
  },
  {
   "cell_type": "code",
   "execution_count": null,
   "metadata": {},
   "outputs": [],
   "source": []
  },
  {
   "cell_type": "code",
   "execution_count": 5,
   "metadata": {},
   "outputs": [
    {
     "name": "stdout",
     "output_type": "stream",
     "text": [
      "(0.012207031977595827, 'sigma_gn')\n",
      "0.012207031977595827\n",
      "Warning: Desired error not necessarily achieved due to precision loss.\n",
      "         Current function value: 246664.696095\n",
      "         Iterations: 446\n",
      "         Function evaluations: 1009\n",
      "         Gradient evaluations: 1000\n"
     ]
    },
    {
     "data": {
      "text/plain": [
       "'\\ngg_10,sim_gains_amp_10=fit_gains(m,ts_10,rg_10,ag_10, gn_10_50_1,time_channel,50,1,random_10)\\n\\ngg_10_3,sim_gains_amp_10_3=fit_gains(m,ts_10_3,rg_10_3,ag_10_3, gn_10_50_1_3,time_channel,50,1,random_10_3)\\n\\ngg_10_5,sim_gains_amp_10_5=fit_gains(m,ts_10_5,rg_10_5,ag_10_5, gn_10_50_1_5,time_channel,50,1,random_10_5)\\n\\ngg_100, sim_gains_amp_100=fit_gains(m,ts_100,rg_100,ag_100, gn_100_50_1,time_channel,50,1,random_100)\\n\\ngg_1000, sim_gains_amp_1000=fit_gains(m,ts_1000,rg_1000,ag_1000, gn_1000_50_1,time_channel,50,1,random_1000)\\n\\ngg_10000, sim_gains_amp_10000=fit_gains(m,ts_10000,rg_10000,ag_10000, gn_10000_50_1,time_channel,50,1,random_10000)\\n'"
      ]
     },
     "execution_count": 5,
     "metadata": {},
     "output_type": "execute_result"
    }
   ],
   "source": [
    "\n",
    "runs=1\n",
    "\n",
    "'''\n",
    "random_10=np.load('random_10.npy')\n",
    "random_100=np.load('random_100.npy')\n",
    "random_1000=np.load('random_1000.npy')\n",
    "random_10000=np.load('random_10000.npy')\n",
    "random_10_3=np.load('random_10_3.npy')\n",
    "random_10_5=np.load('random_10_5.npy')\n",
    "'''\n",
    "#random_10=np.random.normal(0,1.,2*Ndish)\n",
    "#random_100=np.random.normal(0,10.,2*Ndish)\n",
    "#random_1000=np.random.normal(0,100.,2*Ndish)\n",
    "#random_10000=np.random.normal(0,1000.,2*Ndish)\n",
    "\n",
    "random_pt1=np.load('random_pt1.npy')\n",
    "\n",
    "def fit_gains(m,file_no_gain,gain, file_with_gain,file_gain_noise, time_channel,Tsys,ndays,random):\n",
    "    gg=np.zeros((runs,Ndish*2))\n",
    "    for run in range(runs):\n",
    "        arr=Visibilities_grid(m,file_no_gain,gain,file_with_gain,file_gain_noise,time_channel,Tsys,ndays)\n",
    "        vis=arr[2][:,time_channel]\n",
    "        sigma=arr[-1]\n",
    "        diag=sigma**2*np.ones(2*Nbls)\n",
    "        print (sigma)\n",
    "        mat=corrcal2.sparse_2level(diag,vecs,src,2*lims) #init\n",
    "        \n",
    "        gain=gain['gain'][0,:Ndish,time_channel]\n",
    "        sim_gains=np.append(gain.real,gain.imag)\n",
    "        sim_gains=np.zeros(Ndish*2)\n",
    "        sim_gains[0::2]=gain.real\n",
    "        sim_gains[1::2]=gain.imag\n",
    "        sim_gains_amp=sim_gains[0::2]\n",
    "        sim_gains_phase=sim_gains[1::2]\n",
    "         \n",
    "        mult=random+1.\n",
    "\n",
    "        gvec=np.array([])\n",
    "        for i in range(len(sim_gains)):\n",
    "            gvec=np.append(gvec,sim_gains[i]+random[i])\n",
    "            #gvec=np.append(gvec,sim_gains[i]*mult[i])\n",
    "\n",
    "\n",
    "        data=np.zeros(2*vis.size)\n",
    "        data[0::2]=vis.real\n",
    "        data[1::2]=vis.imag\n",
    "        fac=1.;\n",
    "        normfac=1.\n",
    "        asdf=fmin_cg(corrcal2.get_chisq,gvec*fac,corrcal2.get_gradient,(data,mat,ant1,ant2,fac,normfac))\n",
    "        #asdf=fmin_cg(corrcal2.get_chisq_dense,gvec*fac,corrcal2.get_gradient_dense,(data,diag_mat,vecs_mat,ant1,ant2,fac,normfac))\n",
    "        fit_gains_run=asdf/fac\n",
    "        gg[run,:]=fit_gains_run\n",
    "        \n",
    "        gain_std=(np.std(gg,axis=0)/np.sqrt(runs)).flatten()\n",
    "        gain_mean=np.mean(gg,axis=0).flatten() #shape is 98, we take every second one for amp so shape is 49\n",
    "        rec_gains_amp=gain_mean[0::2]\n",
    "        rec_gains_phase=gain_mean[1::2]\n",
    "        gain_std_amp=gain_std[0::2]\n",
    "        gain_std_phase=gain_std[1::2]\n",
    "\n",
    "    return rec_gains_amp, sim_gains_amp\n",
    "    \n",
    "    \n",
    "rec_gains_amp_2, sim_gains_amp_2=fit_gains(m,ts_2,rg_2,ag_2, gn_2,time_channel,50,1,random_pt1)\n",
    "\n",
    "'''\n",
    "gg_10,sim_gains_amp_10=fit_gains(m,ts_10,rg_10,ag_10, gn_10_50_1,time_channel,50,1,random_10)\n",
    "\n",
    "gg_10_3,sim_gains_amp_10_3=fit_gains(m,ts_10_3,rg_10_3,ag_10_3, gn_10_50_1_3,time_channel,50,1,random_10_3)\n",
    "\n",
    "gg_10_5,sim_gains_amp_10_5=fit_gains(m,ts_10_5,rg_10_5,ag_10_5, gn_10_50_1_5,time_channel,50,1,random_10_5)\n",
    "\n",
    "gg_100, sim_gains_amp_100=fit_gains(m,ts_100,rg_100,ag_100, gn_100_50_1,time_channel,50,1,random_100)\n",
    "\n",
    "gg_1000, sim_gains_amp_1000=fit_gains(m,ts_1000,rg_1000,ag_1000, gn_1000_50_1,time_channel,50,1,random_1000)\n",
    "\n",
    "gg_10000, sim_gains_amp_10000=fit_gains(m,ts_10000,rg_10000,ag_10000, gn_10000_50_1,time_channel,50,1,random_10000)\n",
    "'''\n",
    "              \n"
   ]
  },
  {
   "cell_type": "code",
   "execution_count": 6,
   "metadata": {},
   "outputs": [
    {
     "data": {
      "text/plain": [
       "'\\nrel_err_10=rel_err(gg_10,sim_gains_amp_10)\\nrel_err_10_3=rel_err(gg_10_3,sim_gains_amp_10_3)\\nrel_err_10_5=rel_err(gg_10_5,sim_gains_amp_10_5)\\n\\n\\nrel_err_100=rel_err(gg_100,sim_gains_amp_100)\\nrel_err_1000=rel_err(gg_1000,sim_gains_amp_1000)\\nrel_err_10000=rel_err(gg_10000,sim_gains_amp_10000)\\n\\nprint (rel_err_10_3[2])\\n'"
      ]
     },
     "execution_count": 6,
     "metadata": {},
     "output_type": "execute_result"
    }
   ],
   "source": [
    "def rel_err(rec_gains_amp,sim_gains_amp):\n",
    "    rel_err_amp=np.abs(rec_gains_amp-sim_gains_amp)/sim_gains_amp\n",
    "\n",
    "    rel_err_amp_mean=np.mean(rel_err_amp)\n",
    "    rel_err_amp_std=np.std(rel_err_amp,ddof=1)\n",
    "    return rec_gains_amp, rel_err_amp, rel_err_amp_mean, rel_err_amp_std\n",
    "\n",
    "rel_err_2=rel_err(rec_gains_amp_2,sim_gains_amp_2)\n",
    "\n",
    "    \n",
    "'''\n",
    "rel_err_10=rel_err(gg_10,sim_gains_amp_10)\n",
    "rel_err_10_3=rel_err(gg_10_3,sim_gains_amp_10_3)\n",
    "rel_err_10_5=rel_err(gg_10_5,sim_gains_amp_10_5)\n",
    "\n",
    "\n",
    "rel_err_100=rel_err(gg_100,sim_gains_amp_100)\n",
    "rel_err_1000=rel_err(gg_1000,sim_gains_amp_1000)\n",
    "rel_err_10000=rel_err(gg_10000,sim_gains_amp_10000)\n",
    "\n",
    "print (rel_err_10_3[2])\n",
    "'''"
   ]
  },
  {
   "cell_type": "code",
   "execution_count": 7,
   "metadata": {},
   "outputs": [
    {
     "data": {
      "text/plain": [
       "(array([0.99943877, 1.00967275, 1.0060225 , 1.0039309 , 1.01151034,\n",
       "        1.00413472, 1.00576681, 1.00978897, 0.99978964]),\n",
       " array([1., 1., 1., 1., 1., 1., 1., 1., 1.]))"
      ]
     },
     "execution_count": 7,
     "metadata": {},
     "output_type": "execute_result"
    }
   ],
   "source": [
    "rec_gains_amp_2, sim_gains_amp_2"
   ]
  },
  {
   "cell_type": "code",
   "execution_count": 9,
   "metadata": {},
   "outputs": [
    {
     "data": {
      "image/png": "[encoded data removed]",
      "text/plain": [
       "<Figure size 432x288 with 1 Axes>"
      ]
     },
     "metadata": {},
     "output_type": "display_data"
    }
   ],
   "source": [
    "fig, ax = plt.subplots()\n",
    "\n",
    "lims = [-15,  # min of both axes\n",
    "    np.max([ax.get_xlim()]),  # max of both axes\n",
    "]\n",
    "ax.scatter(rec_gains_amp_2,sim_gains_amp_2)\n",
    "ax.plot(lims, lims,'g')\n",
    "#plt.errorbar(x_true_real[:Ndish,time_channel],x_rec_real[:Ndish,time_channel],xerr=None,yerr=error[:Ndish],linestyle=\"None\")\n",
    "plt.xlabel('Simulated gains')\n",
    "plt.ylabel('Recovered gains')\n",
    "lim=.002"
   ]
  },
  {
   "cell_type": "code",
   "execution_count": 69,
   "metadata": {},
   "outputs": [
    {
     "name": "stdout",
     "output_type": "stream",
     "text": [
      "[0.06023433 0.13220328 0.34759464]\n",
      "[0.05176634 0.21032598 1.05472074]\n"
     ]
    },
    {
     "data": {
      "text/plain": [
       "'\\nplt.plot(rel_err_10[0])\\nplt.plot(rel_err_100[0])\\nplt.plot(rel_err_1000[0])\\nplt.plot(rel_err_10000[0])\\n'"
      ]
     },
     "execution_count": 69,
     "metadata": {},
     "output_type": "execute_result"
    },
    {
     "data": {
      "image/png": "[encoded data removed]",
      "text/plain": [
       "<Figure size 432x288 with 1 Axes>"
      ]
     },
     "metadata": {},
     "output_type": "display_data"
    }
   ],
   "source": [
    "rel_err_4input_gains_mean=np.array([rel_err_10[1],rel_err_10_3[1],rel_err_10_5[1]])\n",
    "rel_err_4input_gains_std=np.array([rel_err_10[2],rel_err_10_3[2],rel_err_10_5[2]])\n",
    "\n",
    "gain_input_arr=np.array([0,3,5])\n",
    "\n",
    "print (rel_err_4input_gains_mean)\n",
    "print (rel_err_4input_gains_std)\n",
    "#plt.plot(rel_err_4input_gains,'o')\n",
    "#plt.show()\n",
    "\n",
    "plt.plot(gain_input_arr,rel_err_4input_gains_mean,'g',linestyle='--',marker='o')\n",
    "plt.plot(gain_input_arr,rel_err_4input_gains_std,'r',linestyle='--',marker='o')\n",
    "plt.xlabel('Gain scatter')\n",
    "plt.ylabel('Relative amplitude error')\n",
    "plt.legend(('Mean','Std dev'))\n",
    "plt.title('Mean and std dev of relative amplitude error for different gain scatter')\n",
    "#plt.savefig('Mean_and_stddev_relative_amp_error_gainfluc_10_diff_gain_scatter')\n",
    "'''\n",
    "plt.plot(rel_err_10[0])\n",
    "plt.plot(rel_err_100[0])\n",
    "plt.plot(rel_err_1000[0])\n",
    "plt.plot(rel_err_10000[0])\n",
    "'''"
   ]
  },
  {
   "cell_type": "code",
   "execution_count": 6,
   "metadata": {},
   "outputs": [
    {
     "ename": "NameError",
     "evalue": "name 'gvec' is not defined",
     "output_type": "error",
     "traceback": [
      "\u001b[0;31m---------------------------------------------------------------------------\u001b[0m",
      "\u001b[0;31mNameError\u001b[0m                                 Traceback (most recent call last)",
      "\u001b[0;32m<ipython-input-6-33b6aa2d12a7>\u001b[0m in \u001b[0;36m<module>\u001b[0;34m()\u001b[0m\n\u001b[1;32m      1\u001b[0m \u001b[0;34m\u001b[0m\u001b[0m\n\u001b[1;32m      2\u001b[0m \u001b[0;34m\u001b[0m\u001b[0m\n\u001b[0;32m----> 3\u001b[0;31m \u001b[0;32mprint\u001b[0m \u001b[0;34m(\u001b[0m\u001b[0mgvec\u001b[0m\u001b[0;34m[\u001b[0m\u001b[0;36m0\u001b[0m\u001b[0;34m:\u001b[0m\u001b[0;34m:\u001b[0m\u001b[0;36m2\u001b[0m\u001b[0;34m]\u001b[0m\u001b[0;34m-\u001b[0m\u001b[0mgain_mean\u001b[0m\u001b[0;34m[\u001b[0m\u001b[0;36m0\u001b[0m\u001b[0;34m:\u001b[0m\u001b[0;34m:\u001b[0m\u001b[0;36m2\u001b[0m\u001b[0;34m]\u001b[0m\u001b[0;34m,\u001b[0m\u001b[0;34m'diff gvec and gain fit'\u001b[0m\u001b[0;34m)\u001b[0m\u001b[0;34m\u001b[0m\u001b[0m\n\u001b[0m\u001b[1;32m      4\u001b[0m \u001b[0;34m\u001b[0m\u001b[0m\n\u001b[1;32m      5\u001b[0m \u001b[0;34m\u001b[0m\u001b[0m\n",
      "\u001b[0;31mNameError\u001b[0m: name 'gvec' is not defined"
     ]
    }
   ],
   "source": [
    "\n",
    "\n",
    "print (gvec[0::2]-gain_mean[0::2],'diff gvec and gain fit')\n",
    "\n",
    "\n",
    "\n",
    "print (gain_std,'gain std')\n",
    "print (rec_gains_amp.min(),rec_gains_amp.max(), 'gain mean amp max and min')\n",
    "print (rec_gains_phase.min(),rec_gains_phase.max(), 'gain mean phase max and min')\n",
    "\n",
    "#print (rel_err,'rel err')\n",
    "#print (rel_err_1_run,'rel err 1 run')\n",
    "#print (rel_err_1_run.min(),rel_err_1_run.max(), 'rel err max and min 1 run')\n",
    "\n",
    "print (gain_mean,'gain mean')\n",
    "print (np.mean(rec_gains_amp),'mean of amp')\n",
    "print (np.std(rec_gains_amp),'std of amp')\n",
    "\n",
    "#sim_gains_amp=sim_gains[:Ndish]\n",
    "#rec_gains_amp=gain_mean[:Ndish]\n",
    "#sim_gains_phase=sim_gains[Ndish:]\n",
    "#rec_gains_phase=gain_mean[Ndish:]\n",
    "#gain_std_amp=gain_std[:Ndish]\n",
    "#gain_std_phase=gain_std[Ndish:]\n",
    "\n",
    "#np.save('3by3_gain_mean_1e5_runs_signal_1000_redundant_gainfluc_1e-6_gain_input_1e-7_scalefac_1',gain_mean)\n",
    "#np.save('7by7_gain_std_sig_1e-2_runs_1_signal_1000_redundant_gainfluc_1e-6_gain_input_1e-5_times_gainfluc',gain_std)\n",
    "#colors=['#E49B0F','#007F66','#6082B6','#AB92B3','#00AB66','#A57C00','#D4AF37','#FFD700','#E6BE8A','#85754E','#996515','#A8E4A0','#00FF00','#1CAC78','#008000','#66B032','#1164B4','#2887C8','#A99A86','#2a3439','#5218FA','#E9D66B','#FF7A00','#DF73FF','#F400A1','#006DB0','#49796B','#71A6D2','#319177','#ED2939','#B2EC5D','#4B0082','#FF4F00','#BA160C','#B3446C','#F08080','#FFA07A','#B0C4DE','#AE98AA','#C19A6B','#9F4576','#AAF0D1','#F653A6','#D0417E','#FF0090','#FDBE02','#FF8243','#880085','#915F6D','#0A7E8C','#FEBAAD','#0A7E8C','#997A8D','#AD4379']\n",
    "\n",
    "\n",
    "#colour_scatterplot(m,rel_err)\n",
    "\n",
    "'''\n",
    "fig, ax = plt.subplots()\n",
    "\n",
    "lims = [-1.5,  # min of both axes\n",
    "    1+np.max([ax.get_xlim()]),  # max of both axes\n",
    "]\n",
    "ax.scatter(sim_gains_amp,rec_gains_amp)#,c=colors[:Ndish])\n",
    "plt.errorbar(sim_gains_amp,rec_gains_amp,xerr=None,yerr=gain_std_amp,linestyle=\"None\")\n",
    "\n",
    "ax.plot(lims, lims,'g')\n",
    "#plt.errorbar(x_sim[:Ndish,time_channel],x_rec[:Ndish,time_channel],xerr=None,yerr=error_single[:Ndish],linestyle=\"None\")\n",
    "plt.xlabel('Simulated gain amplitude')\n",
    "plt.ylabel('Recovered gain amplitude')\n",
    "#plt.ylim(.95,1.05)\n",
    "#plt.xlim(.95,1.05)\n",
    "\n",
    "plt.show()\n",
    "\n",
    "\n",
    "\n",
    "gain_mean_0=gain_mean[0]\n",
    "chisq_0=corrcal2.get_chisq(gain_mean,*args)\n",
    "print (gain_mean,'gain mean')\n",
    "\n",
    "args=(data,mat,ant1,ant2)\n",
    "\n",
    "\n",
    "gain_arr=np.linspace(.8,1.3,100.)\n",
    "\n",
    "corrcal_arr=np.array([])\n",
    "for i in gain_arr:\n",
    "    print (i)\n",
    "    gain_mean[0]=i\n",
    "    corrcal_sing=corrcal2.get_chisq(gain_mean,*args)\n",
    "    corrcal_arr=np.append(corrcal_arr,corrcal_sing)\n",
    "\n",
    "\n",
    "plt.plot(gain_arr,corrcal_arr)\n",
    "plt.plot(gain_mean_0,chisq_0,'o')\n",
    "plt.xlabel('gain amplitude')\n",
    "plt.ylabel(r'$\\rm{\\chi^2}$')\n",
    "plt.show()\n",
    "#gain_mean_sig_pt01=np.load('7by7_gain_mean_sig_1e-2_runs_1_signal_1000_redundant_gainfluc_1e-6_gain_input_1e-7_scalefac_1.npy')\n",
    "#gain_std_sig_pt01=np.load('7by7_gain_std_sig_1e-2_runs_1000_signal_1000_redundant_gainfluc_1e-6_gain_input_1e-5_times_gainfluc.npy')\n",
    "#print (gvec.flatten()[0::2],'sim gains with fluctuation')\n",
    "#print (fit_gains.flatten()[0::2],'fit gains')\n",
    "\n",
    "#gain_mean_1_run=np.load('3by3_gain_mean_1_run_signal_1000_redundant_gainfluc_1e-6_gain_input_1e-7_scalefac_1.npy')\n",
    "'''\n"
   ]
  },
  {
   "cell_type": "code",
   "execution_count": null,
   "metadata": {},
   "outputs": [],
   "source": [
    "gg_amp=gg[:,0::2]\n",
    "gg_amp_mean=np.mean(gg_amp,axis=1) #shape is number of runs\n",
    "gg_amp_std=np.std(gg_amp,axis=1)\n",
    "\n",
    "plt.hist(gg_amp_std,'auto',color='g')\n",
    "plt.xlabel('Standard deviation')\n",
    "plt.show()\n",
    "\n",
    "cent_dish_hex_amp=38\n",
    "corner_dish_hex_amp=0\n",
    "\n",
    "cent_dish_sq_amp=24 #16,17,18,30,31,32,23,25\n",
    "corner_dish_sq_amp=0 #6,42,48\n",
    "\n",
    "def hist_indiv_dishes_amp(cent_dish,corner_dish):\n",
    "    gg_dish_cent_amp=gg_amp[:,cent_dish]\n",
    "    gg_dish_corner_amp=gg_amp[:,corner_dish]\n",
    "\n",
    "    rel_err_dish_corner_amp=np.abs(gg_dish_corner_amp-sim_gains_amp[corner_dish])/sim_gains_amp[corner_dish]\n",
    "    rel_err_dish_cent_amp=np.abs(gg_dish_cent_amp-sim_gains[cent_dish])/sim_gains[cent_dish]\n",
    "\n",
    "    plt.hist(rel_err_dish_corner_amp,'auto',color='g')\n",
    "    plt.hist(rel_err_dish_cent_amp,'auto',color='r')\n",
    "    plt.legend(('Outer','Centre'))\n",
    "    plt.xlabel('Relative error')\n",
    "    plt.show()\n",
    "\n",
    "hist_indiv_dishes_amp(cent_dish_sq_amp,corner_dish_sq_amp)\n"
   ]
  },
  {
   "cell_type": "code",
   "execution_count": null,
   "metadata": {},
   "outputs": [],
   "source": [
    "gain_mean_0=gain_mean[0]\n",
    "chisq_0=corrcal2.get_chisq(gain_mean,*args)\n",
    "print (gain_mean,'gain mean')\n",
    "\n",
    "args=(data,mat,ant1,ant2)\n",
    "\n",
    "\n",
    "gain_arr=np.linspace(.8,1.3,100.)\n",
    "\n",
    "corrcal_arr=np.array([])\n",
    "for i in gain_arr:\n",
    "    print (i)\n",
    "    gain_mean[0]=i\n",
    "    corrcal_sing=corrcal2.get_chisq(gain_mean,*args)\n",
    "    corrcal_arr=np.append(corrcal_arr,corrcal_sing)\n",
    "\n",
    "\n",
    "plt.plot(gain_arr,corrcal_arr)\n",
    "plt.plot(gain_mean_0,chisq_0,'o')\n",
    "plt.xlabel('gain amplitude')\n",
    "plt.ylabel(r'$\\rm{\\chi^2}$')\n",
    "plt.show()"
   ]
  },
  {
   "cell_type": "code",
   "execution_count": 52,
   "metadata": {},
   "outputs": [
    {
     "name": "stdout",
     "output_type": "stream",
     "text": [
      "[[0 1]\n",
      " [0 1]] xmat\n",
      "[[0 0]\n",
      " [1 1]] ymat\n"
     ]
    }
   ],
   "source": [
    "import numpy\n",
    "import corrcal2\n",
    "from matplotlib import pyplot as plt\n",
    "\n",
    "nn=2\n",
    "x=numpy.arange(nn)\n",
    "xmat=numpy.repeat([x],nn,axis=0)\n",
    "ymat=xmat.copy().transpose()\n",
    "print xmat, 'xmat'\n",
    "print ymat, 'ymat'"
   ]
  },
  {
   "cell_type": "code",
   "execution_count": 53,
   "metadata": {},
   "outputs": [
    {
     "name": "stdout",
     "output_type": "stream",
     "text": [
      "[[-0.00839213  1.0149532 ]\n",
      " [ 0.00761254  0.99414329]] xmat\n",
      "[[0.01364164 0.01004008]\n",
      " [0.99910909 0.99378085]] ymat\n"
     ]
    }
   ],
   "source": [
    "scat=0.01\n",
    "\n",
    "xmat=xmat+scat*numpy.random.randn(xmat.shape[0],xmat.shape[1])\n",
    "ymat=ymat+scat*numpy.random.randn(ymat.shape[0],ymat.shape[1])\n",
    "print xmat, 'xmat'\n",
    "print ymat, 'ymat'"
   ]
  },
  {
   "cell_type": "code",
   "execution_count": 54,
   "metadata": {},
   "outputs": [
    {
     "name": "stdout",
     "output_type": "stream",
     "text": [
      "[-0.00839213  1.0149532   0.00761254  0.99414329]\n",
      "[0.01364164 0.01004008 0.99910909 0.99378085]\n"
     ]
    }
   ],
   "source": [
    "xpos=np.ndarray.flatten(xmat)\n",
    "ypos=np.ndarray.flatten(ymat)\n",
    "print xpos\n",
    "print ypos"
   ]
  },
  {
   "cell_type": "code",
   "execution_count": 55,
   "metadata": {
    "scrolled": false
   },
   "outputs": [
    {
     "name": "stdout",
     "output_type": "stream",
     "text": [
      "[[-0.00839213  1.0149532   0.00761254  0.99414329]\n",
      " [-0.00839213  1.0149532   0.00761254  0.99414329]\n",
      " [-0.00839213  1.0149532   0.00761254  0.99414329]\n",
      " [-0.00839213  1.0149532   0.00761254  0.99414329]]\n",
      "[[0.01364164 0.01364164 0.01364164 0.01364164]\n",
      " [0.01004008 0.01004008 0.01004008 0.01004008]\n",
      " [0.99910909 0.99910909 0.99910909 0.99910909]\n",
      " [0.99378085 0.99378085 0.99378085 0.99378085]]\n"
     ]
    }
   ],
   "source": [
    "xx,yy=np.meshgrid(xpos,ypos)\n",
    "print xx\n",
    "print yy"
   ]
  },
  {
   "cell_type": "code",
   "execution_count": 56,
   "metadata": {},
   "outputs": [
    {
     "name": "stdout",
     "output_type": "stream",
     "text": [
      "[[0 1 2 3]\n",
      " [0 1 2 3]\n",
      " [0 1 2 3]\n",
      " [0 1 2 3]]\n",
      "[[0 0 0 0]\n",
      " [1 1 1 1]\n",
      " [2 2 2 2]\n",
      " [3 3 3 3]]\n"
     ]
    }
   ],
   "source": [
    "antvec=numpy.arange(xpos.size)\n",
    "ant1,ant2=np.meshgrid(antvec,antvec)\n",
    "print ant1\n",
    "print ant2"
   ]
  },
  {
   "cell_type": "code",
   "execution_count": 57,
   "metadata": {},
   "outputs": [
    {
     "name": "stdout",
     "output_type": "stream",
     "text": [
      "[[ 0.          1.02334533  0.01600467  1.00253542]\n",
      " [-1.02334533  0.         -1.00734066 -0.02080991]\n",
      " [-0.01600467  1.00734066  0.          0.98653075]\n",
      " [-1.00253542  0.02080991 -0.98653075  0.        ]]\n",
      "[[ 0.          0.00360156 -0.98546745 -0.98013922]\n",
      " [-0.00360156  0.         -0.989069   -0.98374077]\n",
      " [ 0.98546745  0.989069    0.          0.00532823]\n",
      " [ 0.98013922  0.98374077 -0.00532823  0.        ]]\n"
     ]
    }
   ],
   "source": [
    "umat=xx-xx.transpose()\n",
    "vmat=yy-yy.transpose()\n",
    "print umat\n",
    "print vmat"
   ]
  },
  {
   "cell_type": "code",
   "execution_count": 58,
   "metadata": {},
   "outputs": [
    {
     "name": "stdout",
     "output_type": "stream",
     "text": [
      "(array([1, 2, 2, 3, 3, 3]), array([0, 0, 1, 0, 1, 2]))\n",
      "[0 0 1 0 1 2]\n",
      "[1 2 2 3 3 3]\n"
     ]
    }
   ],
   "source": [
    "isok=numpy.where(ant2>ant1)\n",
    "print isok\n",
    "ant1_org=ant1[isok]\n",
    "ant2_org=ant2[isok]\n",
    "print ant1_org\n",
    "print ant2_org"
   ]
  },
  {
   "cell_type": "code",
   "execution_count": 59,
   "metadata": {},
   "outputs": [
    {
     "data": {
      "text/plain": [
       "(6,)"
      ]
     },
     "execution_count": 59,
     "metadata": {},
     "output_type": "execute_result"
    }
   ],
   "source": [
    "u_org.shape"
   ]
  },
  {
   "cell_type": "raw",
   "metadata": {},
   "source": [
    "u_org=umat[isok]\n",
    "v_org=vmat[isok]\n",
    "vis_org=numpy.random.randn(ant1_org.size)+numpy.complex(0,1)*numpy.random.randn(ant1_org.size)\n",
    "\n",
    "noise_org=numpy.ones(u_org.size)\n",
    "\n",
    "vis,u,v,noise,ant1,ant2,edges,_,_=corrcal2.grid_data(vis_org,u_org,v_org,noise_org,ant1_org,ant2_org)\n",
    "for i in range(len(edges)-1):\n",
    "    mystd=numpy.std(u[edges[i]:edges[i+1]])+numpy.std(v[edges[i]:edges[i+1]])\n",
    "    print edges[i], edges[i+1],  mystd\n",
    "print edges, 'edges'\n",
    "v1=numpy.zeros(2*vis.size)\n",
    "v1[0::2]=1\n",
    "v2=numpy.zeros(2*vis.size)\n",
    "v2[1::2]=1\n",
    "vecs=numpy.vstack([v1,v2])\n",
    "src=v1*10\n",
    "\n",
    "big_noise=numpy.zeros(2*noise.size)\n",
    "big_noise[0::2]=noise\n",
    "big_noise[1::2]=noise\n",
    "\n",
    "big_vis=numpy.zeros(2*vis.size)\n",
    "big_vis[0::2]=numpy.real(vis)\n",
    "big_vis[1::2]=numpy.imag(vis)\n",
    "\n",
    "mycov=corrcal2.sparse_2level(big_noise,100*vecs,500*src,2*edges)\n",
    "guess=numpy.zeros(2*len(ant1))\n",
    "guess[0::2]=1.0\n",
    "fac=1000.0\n",
    "from scipy.optimize import fmin_cg\n",
    "gvec=numpy.zeros(2*ant1.max()+2)\n",
    "gvec[0::2]=1.0\n",
    "gvec=gvec+0.1*numpy.random.randn(gvec.size)\n",
    "gvec[0]=1\n",
    "gvec[1]=0\n",
    "\n",
    "asdf=fmin_cg(corrcal2.get_chisq,gvec*fac,corrcal2.get_gradient,(big_vis+500*src,mycov,ant1,ant2,fac))\n"
   ]
  },
  {
   "cell_type": "code",
   "execution_count": 60,
   "metadata": {},
   "outputs": [
    {
     "name": "stdout",
     "output_type": "stream",
     "text": [
      "[991.75758585 -25.85386083 991.74538208 -26.03082072 991.92688726\n",
      " -25.66271797 991.66549275 -25.95332612]\n"
     ]
    }
   ],
   "source": [
    "print asdf"
   ]
  },
  {
   "cell_type": "code",
   "execution_count": 65,
   "metadata": {},
   "outputs": [
    {
     "ename": "IndexError",
     "evalue": "index 6 is out of bounds for axis 1 with size 6",
     "output_type": "error",
     "traceback": [
      "\u001b[0;31m---------------------------------------------------------------------------\u001b[0m",
      "\u001b[0;31mIndexError\u001b[0m                                Traceback (most recent call last)",
      "\u001b[0;32m<ipython-input-65-65b1439f6f3d>\u001b[0m in \u001b[0;36m<module>\u001b[0;34m()\u001b[0m\n\u001b[1;32m     31\u001b[0m \u001b[0mgvec\u001b[0m\u001b[0;34m[\u001b[0m\u001b[0;36m1\u001b[0m\u001b[0;34m]\u001b[0m\u001b[0;34m=\u001b[0m\u001b[0;36m0\u001b[0m\u001b[0;34m\u001b[0m\u001b[0m\n\u001b[1;32m     32\u001b[0m \u001b[0;34m\u001b[0m\u001b[0m\n\u001b[0;32m---> 33\u001b[0;31m \u001b[0masdf_2\u001b[0m\u001b[0;34m=\u001b[0m\u001b[0mfmin_cg\u001b[0m\u001b[0;34m(\u001b[0m\u001b[0mcorrcal2\u001b[0m\u001b[0;34m.\u001b[0m\u001b[0mget_chisq\u001b[0m\u001b[0;34m,\u001b[0m\u001b[0mgvec\u001b[0m\u001b[0;34m*\u001b[0m\u001b[0mfac\u001b[0m\u001b[0;34m,\u001b[0m\u001b[0mcorrcal2\u001b[0m\u001b[0;34m.\u001b[0m\u001b[0mget_gradient\u001b[0m\u001b[0;34m,\u001b[0m\u001b[0;34m(\u001b[0m\u001b[0mbig_vis\u001b[0m\u001b[0;34m+\u001b[0m\u001b[0;36m500\u001b[0m\u001b[0;34m*\u001b[0m\u001b[0msrc\u001b[0m\u001b[0;34m,\u001b[0m\u001b[0mmycov\u001b[0m\u001b[0;34m,\u001b[0m\u001b[0mant1\u001b[0m\u001b[0;34m,\u001b[0m\u001b[0mant2\u001b[0m\u001b[0;34m,\u001b[0m\u001b[0mfac\u001b[0m\u001b[0;34m)\u001b[0m\u001b[0;34m)\u001b[0m\u001b[0;34m\u001b[0m\u001b[0m\n\u001b[0m",
      "\u001b[0;32m/home/zahra/anaconda3/envs/py27/lib/python2.7/site-packages/scipy/optimize/optimize.pyc\u001b[0m in \u001b[0;36mfmin_cg\u001b[0;34m(f, x0, fprime, args, gtol, norm, epsilon, maxiter, full_output, disp, retall, callback)\u001b[0m\n\u001b[1;32m   1212\u001b[0m             'return_all': retall}\n\u001b[1;32m   1213\u001b[0m \u001b[0;34m\u001b[0m\u001b[0m\n\u001b[0;32m-> 1214\u001b[0;31m     \u001b[0mres\u001b[0m \u001b[0;34m=\u001b[0m \u001b[0m_minimize_cg\u001b[0m\u001b[0;34m(\u001b[0m\u001b[0mf\u001b[0m\u001b[0;34m,\u001b[0m \u001b[0mx0\u001b[0m\u001b[0;34m,\u001b[0m \u001b[0margs\u001b[0m\u001b[0;34m,\u001b[0m \u001b[0mfprime\u001b[0m\u001b[0;34m,\u001b[0m \u001b[0mcallback\u001b[0m\u001b[0;34m=\u001b[0m\u001b[0mcallback\u001b[0m\u001b[0;34m,\u001b[0m \u001b[0;34m**\u001b[0m\u001b[0mopts\u001b[0m\u001b[0;34m)\u001b[0m\u001b[0;34m\u001b[0m\u001b[0m\n\u001b[0m\u001b[1;32m   1215\u001b[0m \u001b[0;34m\u001b[0m\u001b[0m\n\u001b[1;32m   1216\u001b[0m     \u001b[0;32mif\u001b[0m \u001b[0mfull_output\u001b[0m\u001b[0;34m:\u001b[0m\u001b[0;34m\u001b[0m\u001b[0m\n",
      "\u001b[0;32m/home/zahra/anaconda3/envs/py27/lib/python2.7/site-packages/scipy/optimize/optimize.pyc\u001b[0m in \u001b[0;36m_minimize_cg\u001b[0;34m(fun, x0, args, jac, callback, gtol, norm, eps, maxiter, disp, return_all, **unknown_options)\u001b[0m\n\u001b[1;32m   1263\u001b[0m     \u001b[0;32melse\u001b[0m\u001b[0;34m:\u001b[0m\u001b[0;34m\u001b[0m\u001b[0m\n\u001b[1;32m   1264\u001b[0m         \u001b[0mgrad_calls\u001b[0m\u001b[0;34m,\u001b[0m \u001b[0mmyfprime\u001b[0m \u001b[0;34m=\u001b[0m \u001b[0mwrap_function\u001b[0m\u001b[0;34m(\u001b[0m\u001b[0mfprime\u001b[0m\u001b[0;34m,\u001b[0m \u001b[0margs\u001b[0m\u001b[0;34m)\u001b[0m\u001b[0;34m\u001b[0m\u001b[0m\n\u001b[0;32m-> 1265\u001b[0;31m     \u001b[0mgfk\u001b[0m \u001b[0;34m=\u001b[0m \u001b[0mmyfprime\u001b[0m\u001b[0;34m(\u001b[0m\u001b[0mx0\u001b[0m\u001b[0;34m)\u001b[0m\u001b[0;34m\u001b[0m\u001b[0m\n\u001b[0m\u001b[1;32m   1266\u001b[0m     \u001b[0mk\u001b[0m \u001b[0;34m=\u001b[0m \u001b[0;36m0\u001b[0m\u001b[0;34m\u001b[0m\u001b[0m\n\u001b[1;32m   1267\u001b[0m     \u001b[0mxk\u001b[0m \u001b[0;34m=\u001b[0m \u001b[0mx0\u001b[0m\u001b[0;34m\u001b[0m\u001b[0m\n",
      "\u001b[0;32m/home/zahra/anaconda3/envs/py27/lib/python2.7/site-packages/scipy/optimize/optimize.pyc\u001b[0m in \u001b[0;36mfunction_wrapper\u001b[0;34m(*wrapper_args)\u001b[0m\n\u001b[1;32m    291\u001b[0m     \u001b[0;32mdef\u001b[0m \u001b[0mfunction_wrapper\u001b[0m\u001b[0;34m(\u001b[0m\u001b[0;34m*\u001b[0m\u001b[0mwrapper_args\u001b[0m\u001b[0;34m)\u001b[0m\u001b[0;34m:\u001b[0m\u001b[0;34m\u001b[0m\u001b[0m\n\u001b[1;32m    292\u001b[0m         \u001b[0mncalls\u001b[0m\u001b[0;34m[\u001b[0m\u001b[0;36m0\u001b[0m\u001b[0;34m]\u001b[0m \u001b[0;34m+=\u001b[0m \u001b[0;36m1\u001b[0m\u001b[0;34m\u001b[0m\u001b[0m\n\u001b[0;32m--> 293\u001b[0;31m         \u001b[0;32mreturn\u001b[0m \u001b[0mfunction\u001b[0m\u001b[0;34m(\u001b[0m\u001b[0;34m*\u001b[0m\u001b[0;34m(\u001b[0m\u001b[0mwrapper_args\u001b[0m \u001b[0;34m+\u001b[0m \u001b[0margs\u001b[0m\u001b[0;34m)\u001b[0m\u001b[0;34m)\u001b[0m\u001b[0;34m\u001b[0m\u001b[0m\n\u001b[0m\u001b[1;32m    294\u001b[0m \u001b[0;34m\u001b[0m\u001b[0m\n\u001b[1;32m    295\u001b[0m     \u001b[0;32mreturn\u001b[0m \u001b[0mncalls\u001b[0m\u001b[0;34m,\u001b[0m \u001b[0mfunction_wrapper\u001b[0m\u001b[0;34m\u001b[0m\u001b[0m\n",
      "\u001b[0;32m/home/zahra/corrcal2/corrcal2.py\u001b[0m in \u001b[0;36mget_gradient\u001b[0;34m(g, data, mat, ant1, ant2, scale_fac, normfac)\u001b[0m\n\u001b[1;32m    349\u001b[0m \u001b[0;34m\u001b[0m\u001b[0m\n\u001b[1;32m    350\u001b[0m     \u001b[0mr1\u001b[0m\u001b[0;34m=\u001b[0m\u001b[0mg\u001b[0m\u001b[0;34m[\u001b[0m\u001b[0;36m2\u001b[0m\u001b[0;34m*\u001b[0m\u001b[0mant1\u001b[0m\u001b[0;34m]\u001b[0m\u001b[0;34m\u001b[0m\u001b[0m\n\u001b[0;32m--> 351\u001b[0;31m     \u001b[0mr2\u001b[0m\u001b[0;34m=\u001b[0m\u001b[0mg\u001b[0m\u001b[0;34m[\u001b[0m\u001b[0;36m2\u001b[0m\u001b[0;34m*\u001b[0m\u001b[0mant2\u001b[0m\u001b[0;34m]\u001b[0m\u001b[0;34m\u001b[0m\u001b[0m\n\u001b[0m\u001b[1;32m    352\u001b[0m     \u001b[0mi1\u001b[0m\u001b[0;34m=\u001b[0m\u001b[0mg\u001b[0m\u001b[0;34m[\u001b[0m\u001b[0;36m2\u001b[0m\u001b[0;34m*\u001b[0m\u001b[0mant1\u001b[0m\u001b[0;34m+\u001b[0m\u001b[0;36m1\u001b[0m\u001b[0;34m]\u001b[0m\u001b[0;34m\u001b[0m\u001b[0m\n\u001b[1;32m    353\u001b[0m     \u001b[0mi2\u001b[0m\u001b[0;34m=\u001b[0m\u001b[0mg\u001b[0m\u001b[0;34m[\u001b[0m\u001b[0;36m2\u001b[0m\u001b[0;34m*\u001b[0m\u001b[0mant2\u001b[0m\u001b[0;34m+\u001b[0m\u001b[0;36m1\u001b[0m\u001b[0;34m]\u001b[0m\u001b[0;34m\u001b[0m\u001b[0m\n",
      "\u001b[0;31mIndexError\u001b[0m: index 6 is out of bounds for axis 1 with size 6"
     ]
    }
   ],
   "source": [
    "\n",
    "vis_org=numpy.random.randn(ant1_org.size)+numpy.complex(0,1)*numpy.random.randn(ant1_org.size)\n",
    "\n",
    "noise_org=numpy.ones(ant1_org.size)\n",
    "\n",
    "vis,noise,ant1,ant2,edges=vis_org,noise_org,ant1_org,ant2_org, edges\n",
    "v1=numpy.zeros(2*vis.size)\n",
    "v1[0::2]=1\n",
    "v2=numpy.zeros(2*vis.size)\n",
    "v2[1::2]=1\n",
    "vecs=numpy.vstack([v1,v2])\n",
    "src=v1*10\n",
    "\n",
    "big_noise=numpy.zeros(2*noise.size)\n",
    "big_noise[0::2]=noise\n",
    "big_noise[1::2]=noise\n",
    "\n",
    "big_vis=numpy.zeros(2*vis.size)\n",
    "big_vis[0::2]=numpy.real(vis)\n",
    "big_vis[1::2]=numpy.imag(vis)\n",
    "\n",
    "mycov=corrcal2.sparse_2level(big_noise,100*vecs,500*src,2*edges)\n",
    "guess=numpy.zeros(2*len(ant1))\n",
    "guess[0::2]=1.0\n",
    "fac=1000.0\n",
    "from scipy.optimize import fmin_cg\n",
    "gvec=numpy.zeros(2*ant1.max()+2)\n",
    "gvec[0::2]=1.0\n",
    "gvec=gvec+0.1*numpy.random.randn(gvec.size)\n",
    "gvec[0]=1\n",
    "gvec[1]=0\n",
    "\n",
    "asdf_2=fmin_cg(corrcal2.get_chisq,gvec*fac,corrcal2.get_gradient,(big_vis+500*src,mycov,ant1,ant2,fac))\n"
   ]
  },
  {
   "cell_type": "code",
   "execution_count": null,
   "metadata": {},
   "outputs": [],
   "source": [
    "print asdf_2"
   ]
  }
 ],
 "metadata": {
  "kernelspec": {
   "display_name": "Python 2",
   "language": "python",
   "name": "python2"
  },
  "language_info": {
   "codemirror_mode": {
    "name": "ipython",
    "version": 2
   },
   "file_extension": ".py",
   "mimetype": "text/x-python",
   "name": "python",
   "nbconvert_exporter": "python",
   "pygments_lexer": "ipython2",
   "version": "2.7.15"
  }
 },
 "nbformat": 4,
 "nbformat_minor": 2
}
